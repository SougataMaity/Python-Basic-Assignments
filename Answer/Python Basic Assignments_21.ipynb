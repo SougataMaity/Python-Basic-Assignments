{
 "cells": [
  {
   "cell_type": "code",
   "execution_count": 7,
   "id": "9fb02fd3",
   "metadata": {},
   "outputs": [
    {
     "name": "stdout",
     "output_type": "stream",
     "text": [
      "2022-01-25\n"
     ]
    }
   ],
   "source": [
    "'''Q.1 Add the current date to the text file today.txt as a string.'''\n",
    "\n",
    "import datetime\n",
    "from datetime import date\n",
    "today = date.today().isoformat()\n",
    "print(today)\n",
    "\n",
    "with open('today.txt','w') as file:\n",
    "    file.write(today)"
   ]
  },
  {
   "cell_type": "code",
   "execution_count": 9,
   "id": "3f92b3bf",
   "metadata": {},
   "outputs": [
    {
     "data": {
      "text/plain": [
       "'2022-01-25'"
      ]
     },
     "execution_count": 9,
     "metadata": {},
     "output_type": "execute_result"
    }
   ],
   "source": [
    "'''Q.2 Read the text file today.txt into the string today_string'''\n",
    "\n",
    "file = open('today.txt','r')\n",
    "today_string = file.read()\n",
    "today_string"
   ]
  },
  {
   "cell_type": "code",
   "execution_count": 45,
   "id": "f1b8e342",
   "metadata": {},
   "outputs": [
    {
     "data": {
      "text/plain": [
       "datetime.datetime(2022, 1, 25, 0, 0)"
      ]
     },
     "execution_count": 45,
     "metadata": {},
     "output_type": "execute_result"
    }
   ],
   "source": [
    "'''Q.3 Parse the date from today_string.'''\n",
    "\n",
    "from datetime import datetime\n",
    "form = '%Y-%m-%d'\n",
    "datetime.strptime(today_string,form)"
   ]
  },
  {
   "cell_type": "code",
   "execution_count": 21,
   "id": "5de1325a",
   "metadata": {},
   "outputs": [
    {
     "data": {
      "text/plain": [
       "['.ipynb_checkpoints',\n",
       " 'books.csv',\n",
       " 'books.db',\n",
       " 'Python Basic Assignments_1.ipynb',\n",
       " 'Python Basic Assignments_10.ipynb',\n",
       " 'Python Basic Assignments_11.ipynb',\n",
       " 'Python Basic Assignments_12.ipynb',\n",
       " 'Python Basic Assignments_13.ipynb',\n",
       " 'Python Basic Assignments_14.ipynb',\n",
       " 'Python Basic Assignments_15.ipynb',\n",
       " 'Python Basic Assignments_16.ipynb',\n",
       " 'Python Basic Assignments_17.ipynb',\n",
       " 'Python Basic Assignments_18.ipynb',\n",
       " 'Python Basic Assignments_19.ipynb',\n",
       " 'Python Basic Assignments_2.ipynb',\n",
       " 'Python Basic Assignments_20.ipynb',\n",
       " 'Python Basic Assignments_21.ipynb',\n",
       " 'Python Basic Assignments_3.ipynb',\n",
       " 'Python Basic Assignments_4.ipynb',\n",
       " 'Python Basic Assignments_6.ipynb',\n",
       " 'Python Basic Assignments_7.ipynb',\n",
       " 'Python Basic Assignments_8.ipynb',\n",
       " 'Python Basic Assignments_9.ipynb',\n",
       " 'Python programming on PDF',\n",
       " 'test.txt',\n",
       " 'today.txt',\n",
       " 'zoo.py',\n",
       " '__pycache__']"
      ]
     },
     "execution_count": 21,
     "metadata": {},
     "output_type": "execute_result"
    }
   ],
   "source": [
    "'''Q.4 List the files in your current directory'''\n",
    "\n",
    "import os\n",
    "os.listdir()"
   ]
  },
  {
   "cell_type": "code",
   "execution_count": 28,
   "id": "90efb167",
   "metadata": {},
   "outputs": [
    {
     "data": {
      "text/plain": [
       "['$RECYCLE.BIN',\n",
       " '.RData',\n",
       " '.Rhistory',\n",
       " 'Advance Python  Programming Assignment',\n",
       " 'Anaconda',\n",
       " 'Application',\n",
       " 'Config.Msi',\n",
       " 'Downloads',\n",
       " 'Excel',\n",
       " 'Git-2.34.1-64-bit.exe',\n",
       " 'GitHub',\n",
       " 'html',\n",
       " 'Mlops',\n",
       " 'My SQL',\n",
       " 'New folder',\n",
       " 'photo',\n",
       " 'ppt',\n",
       " 'PyCharm',\n",
       " 'python',\n",
       " 'Python Basic Assignments',\n",
       " 'Python Programming Basic Assignment',\n",
       " 'r-code',\n",
       " 'sas data',\n",
       " 'software',\n",
       " 'System Volume Information',\n",
       " 'Tkinter',\n",
       " 'untitled',\n",
       " 'Vs Code',\n",
       " 'vscode1']"
      ]
     },
     "execution_count": 28,
     "metadata": {},
     "output_type": "execute_result"
    }
   ],
   "source": [
    "'''Q.6 Create a list of all of the files in your parent directory (minimum five files should be available).'''\n",
    "\n",
    "os.chdir('.')\n",
    "os.listdir()"
   ]
  },
  {
   "cell_type": "code",
   "execution_count": 36,
   "id": "9261976f",
   "metadata": {},
   "outputs": [],
   "source": [
    "'''Q.6 Use multiprocessing to create three separate processes. Make each one wait a random number of\n",
    "seconds between one and five, print the current time, and then exit.'''\n",
    "\n",
    "os.chdir('F:\\\\Python Basic Assignments\\\\Answer')\n",
    "import multiprocessing\n",
    "\n",
    "def printsec(seconds):\n",
    "    from datetime import datetime\n",
    "    from time import sleep\n",
    "    sleep(seconds)\n",
    "    print('wait', seconds, 'seconds, time is', datetime.utcnow())\n",
    "    \n",
    "if __name__ == '__main__':\n",
    "    import random    \n",
    "    for n in range(3):\n",
    "        seconds = random.random()\n",
    "        proc = multiprocessing.Process(target=printsec, args=(seconds,))\n",
    "        proc.start()\n",
    "        \n",
    "!python zoo.py\n"
   ]
  },
  {
   "cell_type": "code",
   "execution_count": 39,
   "id": "c9e6b573",
   "metadata": {},
   "outputs": [
    {
     "data": {
      "text/plain": [
       "datetime.date(1998, 4, 2)"
      ]
     },
     "execution_count": 39,
     "metadata": {},
     "output_type": "execute_result"
    }
   ],
   "source": [
    "'''Q.7 Create a date object of your day of birth.'''\n",
    "\n",
    "bdy = date(1998,4,2)\n",
    "bdy"
   ]
  },
  {
   "cell_type": "code",
   "execution_count": 41,
   "id": "2aab45db",
   "metadata": {},
   "outputs": [
    {
     "name": "stdout",
     "output_type": "stream",
     "text": [
      "2\n"
     ]
    }
   ],
   "source": [
    "'''Q.8 What day of the week was your day of birth?'''\n",
    "\n",
    "day = bdy.day\n",
    "print(day)"
   ]
  },
  {
   "cell_type": "code",
   "execution_count": 44,
   "id": "5124ba69",
   "metadata": {},
   "outputs": [
    {
     "data": {
      "text/plain": [
       "datetime.date(2025, 8, 18)"
      ]
     },
     "execution_count": 44,
     "metadata": {},
     "output_type": "execute_result"
    }
   ],
   "source": [
    "'''Q.9 When will you be (or when were you) 10,000 days old?'''\n",
    "\n",
    "from datetime import timedelta\n",
    "day_of_10000 = bdy + timedelta(days = 10000)\n",
    "day_of_10000"
   ]
  }
 ],
 "metadata": {
  "kernelspec": {
   "display_name": "Python 3",
   "language": "python",
   "name": "python3"
  },
  "language_info": {
   "codemirror_mode": {
    "name": "ipython",
    "version": 3
   },
   "file_extension": ".py",
   "mimetype": "text/x-python",
   "name": "python",
   "nbconvert_exporter": "python",
   "pygments_lexer": "ipython3",
   "version": "3.8.8"
  }
 },
 "nbformat": 4,
 "nbformat_minor": 5
}
