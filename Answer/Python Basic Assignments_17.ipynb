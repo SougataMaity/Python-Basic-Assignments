{
 "cells": [
  {
   "cell_type": "code",
   "execution_count": 5,
   "id": "6136b6f4",
   "metadata": {},
   "outputs": [
    {
     "name": "stdout",
     "output_type": "stream",
     "text": [
      "num = 5 \"too low\" \n",
      "num = 7 \"just right\" \n",
      "num = 10 \"too high\" \n"
     ]
    }
   ],
   "source": [
    "'''Q.1 Assign the value 7 to the variable guess_me. Then, write the conditional tests (if, else, and elif) to\n",
    "print the string 'too low' if guess_me is less than 7, 'too high' if greater than 7, and 'just right' if equal\n",
    "to 7.'''\n",
    "\n",
    "def condition_test(input_num):\n",
    "    guess_me = 7\n",
    "    if input_num < guess_me:\n",
    "        return f'num = {input_num} \"too low\" '\n",
    "    elif input_num == guess_me:\n",
    "        return f'num = {input_num} \"just right\" '\n",
    "    else:\n",
    "        return f'num = {input_num} \"too high\" '\n",
    "    \n",
    "print(condition_test(5))\n",
    "print(condition_test(7))\n",
    "print(condition_test(10))"
   ]
  },
  {
   "cell_type": "code",
   "execution_count": 8,
   "id": "18f11f7d",
   "metadata": {},
   "outputs": [
    {
     "name": "stdout",
     "output_type": "stream",
     "text": [
      "too low\n",
      "too low\n",
      "too low\n",
      "too low\n",
      "too low\n",
      "too low\n",
      "found it!\n"
     ]
    }
   ],
   "source": [
    "'''Q.2 Assign the value 7 to the variable guess_me and the value 1 to the variable start. Write a while\n",
    "loop that compares start with guess_me. Print too low if start is less than guess me. If start equals\n",
    "guess_me, print'found it!&#39; and exit the loop. If start is greater than guess_me, print'oops&#39; and exit\n",
    "the loop. Increment start at the end of the loop.'''\n",
    "\n",
    "guess_me = 7\n",
    "#start = 10\n",
    "start = 1\n",
    "while True:\n",
    "    if start < guess_me:\n",
    "        print('too low')\n",
    "    elif start == guess_me:\n",
    "        print('found it!')\n",
    "        break\n",
    "    else:\n",
    "        print('oops')\n",
    "        break\n",
    "    start +=1"
   ]
  },
  {
   "cell_type": "code",
   "execution_count": 9,
   "id": "d8c018a5",
   "metadata": {},
   "outputs": [
    {
     "name": "stdout",
     "output_type": "stream",
     "text": [
      "3\n",
      "2\n",
      "1\n",
      "0\n"
     ]
    }
   ],
   "source": [
    "'''Q.3 Print the following values of the list [3, 2, 1, 0] using a for loop.'''\n",
    "\n",
    "list1 = [3, 2, 1, 0]\n",
    "for x in list1:\n",
    "    print(x)"
   ]
  },
  {
   "cell_type": "code",
   "execution_count": 12,
   "id": "6b6987c0",
   "metadata": {},
   "outputs": [
    {
     "data": {
      "text/plain": [
       "[0, 2, 4, 6, 8]"
      ]
     },
     "execution_count": 12,
     "metadata": {},
     "output_type": "execute_result"
    }
   ],
   "source": [
    "'''Q.4 Use a list comprehension to make a list of the even numbers in range(10)'''\n",
    "\n",
    "[x for x in range(10) if x%2==0 ]"
   ]
  },
  {
   "cell_type": "code",
   "execution_count": 15,
   "id": "d9383023",
   "metadata": {},
   "outputs": [
    {
     "data": {
      "text/plain": [
       "{0: 0, 1: 1, 2: 4, 3: 9, 4: 16, 5: 25, 6: 36, 7: 49, 8: 64, 9: 81}"
      ]
     },
     "execution_count": 15,
     "metadata": {},
     "output_type": "execute_result"
    }
   ],
   "source": [
    "'''Q.5 Use a dictionary comprehension to create the dictionary squares. Use range(10) to return the\n",
    "keys, and use the square of each key as its value.'''\n",
    "\n",
    "{x:x*x for x in range(10)}"
   ]
  },
  {
   "cell_type": "code",
   "execution_count": 18,
   "id": "bbf36ac3",
   "metadata": {},
   "outputs": [
    {
     "data": {
      "text/plain": [
       "{1, 3, 5, 7, 9}"
      ]
     },
     "execution_count": 18,
     "metadata": {},
     "output_type": "execute_result"
    }
   ],
   "source": [
    "'''Q.6 Construct the set odd from the odd numbers in the range using a set comprehension (10).'''\n",
    "\n",
    "{x for x in range(10) if x%2 == 1}"
   ]
  },
  {
   "cell_type": "code",
   "execution_count": 21,
   "id": "5ee2d5fe",
   "metadata": {},
   "outputs": [
    {
     "name": "stdout",
     "output_type": "stream",
     "text": [
      "Got 0\n",
      "Got 1\n",
      "Got 2\n",
      "Got 3\n",
      "Got 4\n",
      "Got 5\n",
      "Got 6\n",
      "Got 7\n",
      "Got 8\n",
      "Got 9\n"
     ]
    }
   ],
   "source": [
    "'''Q.7 Use a generator comprehension to return the string 'Got' and a number for the numbers in\n",
    "range(10). Iterate through this by using a for loop.'''\n",
    "\n",
    "string_generator = ('Got ' + str(num) for num in range(10))\n",
    "for item in string_generator:\n",
    "    print(item)"
   ]
  },
  {
   "cell_type": "code",
   "execution_count": 23,
   "id": "69a7b864",
   "metadata": {},
   "outputs": [
    {
     "name": "stdout",
     "output_type": "stream",
     "text": [
      "['Harry', 'Ron', 'Hermione']\n"
     ]
    }
   ],
   "source": [
    "'''Q.8 Define a function called good that returns the list ['Harry', 'Ron', 'Hermione'].'''\n",
    "\n",
    "def good():\n",
    "    return ['Harry', 'Ron', 'Hermione']\n",
    "\n",
    "good()"
   ]
  },
  {
   "cell_type": "code",
   "execution_count": 26,
   "id": "31c3182b",
   "metadata": {},
   "outputs": [
    {
     "name": "stdout",
     "output_type": "stream",
     "text": [
      "[1, 3, 5, 7, 9]\n"
     ]
    }
   ],
   "source": [
    "'''Q.9 Define a generator function called get_odds that returns the odd numbers from range(10). Use a\n",
    "for loop to find and print the third value returned.'''\n",
    "\n",
    "def get_odds():\n",
    "    '''Return odds number in a range of 10'''\n",
    "    odds = [x for x in range(10) if x%2 !=0]\n",
    "    yield odds\n",
    "\n",
    "for num in get_odds():\n",
    "    print(num)"
   ]
  },
  {
   "cell_type": "code",
   "execution_count": 44,
   "id": "d77edb4b",
   "metadata": {},
   "outputs": [
    {
     "name": "stdout",
     "output_type": "stream",
     "text": [
      "Caught an oops\n"
     ]
    }
   ],
   "source": [
    "'''Q.10 Define an exception called OopsException. Raise this exception to see what happens. Then write\n",
    "the code to catch this exception and print 'Caught an oops'.'''\n",
    "\n",
    "class OopsException(Exception):\n",
    "    pass\n",
    "    def with_exception(a):\n",
    "        if a < 0:\n",
    "            raise OopsException(a)\n",
    "    try:\n",
    "        with_exception(-1)\n",
    "    except OopsException as err:\n",
    "        print('Caught an oops')\n",
    "    \n",
    "with_exception(5)\n"
   ]
  },
  {
   "cell_type": "code",
   "execution_count": 35,
   "id": "ee4a11c0",
   "metadata": {},
   "outputs": [
    {
     "data": {
      "text/plain": [
       "{'Creature of Habit': 'A nun turns into a monster',\n",
       " 'Crewel Fate': 'A haunted yarn shop'}"
      ]
     },
     "execution_count": 35,
     "metadata": {},
     "output_type": "execute_result"
    }
   ],
   "source": [
    "'''Q.11 Use zip() to make a dictionary called movies that pairs these lists: titles = ['Creature of Habit',\n",
    "'Crewel Fate'] and plots = ['A nun turns into a monster', 'A haunted yarn shop'].'''\n",
    "\n",
    "titles = ['Creature of Habit', 'Crewel Fate']\n",
    "plots = ['A nun turns into a monster', 'A haunted yarn shop']\n",
    "\n",
    "movie = {}\n",
    "for titles, plots in zip(titles, plots):\n",
    "    movie[titles] = plots\n",
    "    \n",
    "movie"
   ]
  }
 ],
 "metadata": {
  "kernelspec": {
   "display_name": "Python 3",
   "language": "python",
   "name": "python3"
  },
  "language_info": {
   "codemirror_mode": {
    "name": "ipython",
    "version": 3
   },
   "file_extension": ".py",
   "mimetype": "text/x-python",
   "name": "python",
   "nbconvert_exporter": "python",
   "pygments_lexer": "ipython3",
   "version": "3.8.8"
  }
 },
 "nbformat": 4,
 "nbformat_minor": 5
}
