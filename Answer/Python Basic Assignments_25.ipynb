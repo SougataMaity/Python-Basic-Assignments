{
 "cells": [
  {
   "cell_type": "markdown",
   "id": "a1795e08",
   "metadata": {},
   "source": [
    "Q.1 What is the difference between enclosing a list comprehension in square brackets and parentheses?\n",
    "\n",
    "List comprehension in python is an easy and compact syntax for creating a list or tuple from a string or another list.\n",
    "for square brackets output become a list and paraenthesis output become a tuple."
   ]
  },
  {
   "cell_type": "markdown",
   "id": "850cf87f",
   "metadata": {},
   "source": [
    "Q.2 What is the relationship between generators and iterators?\n",
    "\n",
    "A python generator function lends us a sequence of values to python iterate on.\n",
    "A Python iterator returns us an iterator object one value at a time.\n",
    "\n",
    "1. In creating a python generator, we use a function. But in creating an iterator in python, \n",
    "we use only iter() and next() functions.\n",
    "\n",
    "2. A generator in python makes use of the ‘yield’ keyword. A python iterator doesn’t.\n",
    "\n",
    "3. Python generator saves the states of the local variables every time ‘yield’ pauses the loop in python.An iterator does \n",
    "not make use of local variables, all it needs is iterable to iterate on. A generator may have any number of ‘yield’ statements.\n",
    "\n",
    "4. We can implement our own iterator using a python class; a generator does not need a class in python.\n",
    "\n",
    "5. To write a python generator, you can either use a Python function or a comprehension. But for an iterator, \n",
    "we must use the iter() and next() functions.\n",
    "\n",
    "6. Generator in python let us write fast and compact code. This is an advantage over Python iterators. \n",
    "They are also simpler to code than do custom iterator.\n"
   ]
  },
  {
   "cell_type": "markdown",
   "id": "68769b8a",
   "metadata": {},
   "source": [
    "Q.3 What are the signs that a function is a generator function?\n",
    "\n",
    "If a function contains at least one yield statement (it may contain other yield or return statements), \n",
    "it becomes a generator function. Both yield and return will return some value from a function.\n"
   ]
  },
  {
   "cell_type": "markdown",
   "id": "c059577d",
   "metadata": {},
   "source": [
    "Q.4 What is the purpose of a yield statement?\n",
    "\n",
    "yield in Python can be used like the return statement in a function. When done so, \n",
    "the function instead of returning the output, it returns a generator that can be iterated upon. \n"
   ]
  },
  {
   "cell_type": "markdown",
   "id": "e45db2bc",
   "metadata": {},
   "source": [
    "Q.5 What is the relationship between map calls and list comprehensions? Make a comparison and\n",
    "contrast between the two.\n",
    "\n",
    "List comprehension and  map over a data and same logic give same result.\n",
    "List comprehension is more concise and easier to read as compared to map. List comprehension are used \n",
    "when a list of results is required as map only returns a map object and does not return any list. \n",
    "Map is faster in case of calling an already defined function (as no lambda is required).\n"
   ]
  },
  {
   "cell_type": "code",
   "execution_count": 4,
   "id": "fed54748",
   "metadata": {},
   "outputs": [
    {
     "name": "stdout",
     "output_type": "stream",
     "text": [
      "True\n"
     ]
    },
    {
     "data": {
      "text/plain": [
       "[0, 1, 4, 9, 16, 25, 36, 49, 64, 81]"
      ]
     },
     "execution_count": 4,
     "metadata": {},
     "output_type": "execute_result"
    }
   ],
   "source": [
    "data = list(range(10))\n",
    "\n",
    "list_1 = list(map(lambda x: x*x, data)) # map\n",
    "list_2 = [x*x for x in data]            # list comprehension\n",
    "\n",
    "print(list_1 == list_2)"
   ]
  }
 ],
 "metadata": {
  "kernelspec": {
   "display_name": "Python 3",
   "language": "python",
   "name": "python3"
  },
  "language_info": {
   "codemirror_mode": {
    "name": "ipython",
    "version": 3
   },
   "file_extension": ".py",
   "mimetype": "text/x-python",
   "name": "python",
   "nbconvert_exporter": "python",
   "pygments_lexer": "ipython3",
   "version": "3.8.8"
  }
 },
 "nbformat": 4,
 "nbformat_minor": 5
}
