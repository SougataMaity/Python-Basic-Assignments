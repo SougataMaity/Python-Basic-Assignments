{
 "cells": [
  {
   "cell_type": "code",
   "execution_count": 11,
   "id": "43afea72",
   "metadata": {},
   "outputs": [
    {
     "data": {
      "text/plain": [
       "43"
      ]
     },
     "execution_count": 11,
     "metadata": {},
     "output_type": "execute_result"
    }
   ],
   "source": [
    "'''Q.1 Set the variable test1 to the string 'This is a test of the emergency text system' and save test1 to a\n",
    "file named test.txt.'''\n",
    "\n",
    "test1 = 'This is a test of the emergency text system'\n",
    "file = open('test.txt', 'w')\n",
    "file.write(test1)"
   ]
  },
  {
   "cell_type": "code",
   "execution_count": 13,
   "id": "7b6b394e",
   "metadata": {},
   "outputs": [
    {
     "name": "stdout",
     "output_type": "stream",
     "text": [
      "No difference between test1 and test2\n"
     ]
    }
   ],
   "source": [
    "'''Q.2 Read the contents of the file test.txt into the variable test2. Is there a difference between test 1\n",
    "and test 2?'''\n",
    "\n",
    "file = open('test.txt', 'r')\n",
    "test2 = file.read()\n",
    "test2\n",
    "\n",
    "if test1 == test2:\n",
    "    print('No difference between test1 and test2')\n",
    "else:\n",
    "    print('Yes test1 and test2 not equal')"
   ]
  },
  {
   "cell_type": "code",
   "execution_count": 13,
   "id": "c6f37fed",
   "metadata": {},
   "outputs": [],
   "source": [
    "'''Q.3 Create a CSV file called books.csv by using these lines'''\n",
    "\n",
    "import csv\n",
    "field = ['title','author','year']\n",
    "values = [['The Weirdstone of Brisingamen','Alan Garner',1960],\n",
    "          ['Perdido Street Station','China Mieville',2000],\n",
    "          ['Thud!','Terry Pratchett',2005],\n",
    "          ['The Spellman Files','Lisa Lutz',2007],\n",
    "          ['Small Gods','Terry Pratchett',1992]]\n",
    "\n",
    "filename = 'books.csv'\n",
    "with open(filename, 'w', newline='') as file:\n",
    "    csv_file = csv.writer(file)\n",
    "    csv_file.writerow(field)\n",
    "    csv_file.writerows(values)"
   ]
  },
  {
   "cell_type": "code",
   "execution_count": 12,
   "id": "d516a47e",
   "metadata": {},
   "outputs": [],
   "source": [
    "'''Q.4 Use the sqlite3 module to create a SQLite database called books.db, and a table called books with these fields: \n",
    "title (text), author (text), and year (integer).'''\n",
    "\n",
    "import sqlite3\n",
    "data_file = sqlite3.connect('books.db')\n",
    "df = data_file.cursor()\n",
    "\n",
    "df.execute('create table books (title varchar(20), author varchar(20), year int)')\n",
    "data_file.commit()\n"
   ]
  },
  {
   "cell_type": "code",
   "execution_count": 1,
   "id": "969b3443",
   "metadata": {},
   "outputs": [],
   "source": [
    "import sqlite3\n",
    "conn = sqlite3.connect('books.db')\n",
    "c = conn.cursor()\n",
    "\n",
    "c.execute('create table books(title varchar(20),author varchar(20), year int)')\n",
    "conn.commit()"
   ]
  },
  {
   "cell_type": "code",
   "execution_count": 14,
   "id": "477e93cf",
   "metadata": {},
   "outputs": [
    {
     "ename": "NameError",
     "evalue": "name 'conn' is not defined",
     "output_type": "error",
     "traceback": [
      "\u001b[1;31m---------------------------------------------------------------------------\u001b[0m",
      "\u001b[1;31mNameError\u001b[0m                                 Traceback (most recent call last)",
      "\u001b[1;32m<ipython-input-14-1e079dab7f79>\u001b[0m in \u001b[0;36m<module>\u001b[1;34m\u001b[0m\n\u001b[0;32m      2\u001b[0m \u001b[1;33m\u001b[0m\u001b[0m\n\u001b[0;32m      3\u001b[0m \u001b[0mread_books\u001b[0m \u001b[1;33m=\u001b[0m \u001b[0mpd\u001b[0m\u001b[1;33m.\u001b[0m\u001b[0mread_csv\u001b[0m\u001b[1;33m(\u001b[0m\u001b[1;34m'books.csv'\u001b[0m\u001b[1;33m,\u001b[0m\u001b[0mencoding\u001b[0m\u001b[1;33m=\u001b[0m\u001b[1;34m'unicode_escape'\u001b[0m\u001b[1;33m)\u001b[0m\u001b[1;33m\u001b[0m\u001b[1;33m\u001b[0m\u001b[0m\n\u001b[1;32m----> 4\u001b[1;33m \u001b[0mread_books\u001b[0m\u001b[1;33m.\u001b[0m\u001b[0mto_sql\u001b[0m\u001b[1;33m(\u001b[0m\u001b[1;34m'books'\u001b[0m\u001b[1;33m,\u001b[0m \u001b[0mconn\u001b[0m\u001b[1;33m,\u001b[0m \u001b[0mif_exists\u001b[0m\u001b[1;33m=\u001b[0m\u001b[1;34m'append'\u001b[0m\u001b[1;33m,\u001b[0m \u001b[0mindex\u001b[0m \u001b[1;33m=\u001b[0m \u001b[1;32mFalse\u001b[0m\u001b[1;33m)\u001b[0m\u001b[1;33m\u001b[0m\u001b[1;33m\u001b[0m\u001b[0m\n\u001b[0m",
      "\u001b[1;31mNameError\u001b[0m: name 'conn' is not defined"
     ]
    }
   ],
   "source": [
    "import pandas as pd\n",
    "\n",
    "read_books = pd.read_csv('books.csv',encoding='unicode_escape')\n",
    "read_books.to_sql('books', conn, if_exists='append', index = False)\n"
   ]
  },
  {
   "cell_type": "code",
   "execution_count": null,
   "id": "c1a104e5",
   "metadata": {},
   "outputs": [],
   "source": []
  }
 ],
 "metadata": {
  "kernelspec": {
   "display_name": "Python 3",
   "language": "python",
   "name": "python3"
  },
  "language_info": {
   "codemirror_mode": {
    "name": "ipython",
    "version": 3
   },
   "file_extension": ".py",
   "mimetype": "text/x-python",
   "name": "python",
   "nbconvert_exporter": "python",
   "pygments_lexer": "ipython3",
   "version": "3.8.8"
  }
 },
 "nbformat": 4,
 "nbformat_minor": 5
}
