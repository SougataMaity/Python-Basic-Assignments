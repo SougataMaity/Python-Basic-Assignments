{
 "cells": [
  {
   "cell_type": "code",
   "execution_count": 2,
   "id": "522ddcce",
   "metadata": {},
   "outputs": [],
   "source": [
    "'''Q.1 Create a list called years_list, starting with the year of your birth, and each year thereafter until\n",
    "the year of your fifth birthday. For example, if you were born in 1980. the list would be years_list =\n",
    "[1980, 1981, 1982, 1983, 1984, 1985].'''\n",
    "\n",
    "years_list = [1998, 1999, 2001, 2002, 2003, 2004]"
   ]
  },
  {
   "cell_type": "code",
   "execution_count": 3,
   "id": "36eddc65",
   "metadata": {},
   "outputs": [
    {
     "name": "stdout",
     "output_type": "stream",
     "text": [
      "Third birthday year : 2001\n"
     ]
    }
   ],
   "source": [
    "'''Q.2 In which year in years_list was your third birthday? Remember, you were 0 years of age for your\n",
    "first year.'''\n",
    "\n",
    "third_birthday = years_list[2]\n",
    "print('Third birthday year :', third_birthday)"
   ]
  },
  {
   "cell_type": "code",
   "execution_count": 4,
   "id": "19fe3204",
   "metadata": {},
   "outputs": [
    {
     "name": "stdout",
     "output_type": "stream",
     "text": [
      "Oldest year : 2004\n"
     ]
    }
   ],
   "source": [
    "'''Q.3.In the years list, which year were you the oldest?'''\n",
    "\n",
    "oldest_year = years_list[-1]\n",
    "print('Oldest year :', oldest_year)"
   ]
  },
  {
   "cell_type": "code",
   "execution_count": 5,
   "id": "9a9e3fa7",
   "metadata": {},
   "outputs": [
    {
     "name": "stdout",
     "output_type": "stream",
     "text": [
      "['mozzarella', 'cinderella', 'salmonella']\n"
     ]
    }
   ],
   "source": [
    "'''Q.4 Make a list called things with these three strings as elements: 'mozzarella', 'cinderella', 'salmonella'.'''\n",
    "\n",
    "things = ['mozzarella', 'cinderella', 'salmonella']\n",
    "print(things)"
   ]
  },
  {
   "cell_type": "code",
   "execution_count": 11,
   "id": "6ba5ffac",
   "metadata": {},
   "outputs": [
    {
     "data": {
      "text/plain": [
       "['MOZZARELLA', 'CINDERELLA', 'SALMONELLA']"
      ]
     },
     "execution_count": 11,
     "metadata": {},
     "output_type": "execute_result"
    }
   ],
   "source": [
    "'''Q.5 Capitalize the element in things that refers to a person and then print the list. Did it change the\n",
    "element in the list?'''\n",
    "\n",
    "things_cap = []\n",
    "for i in things:\n",
    "    things_cap.append(i.upper())\n",
    "things_cap\n",
    "\n",
    "only change lower case to upper case."
   ]
  },
  {
   "cell_type": "code",
   "execution_count": 12,
   "id": "39b6e57e",
   "metadata": {},
   "outputs": [
    {
     "data": {
      "text/plain": [
       "['Groucho', 'Chico', 'Harpo']"
      ]
     },
     "execution_count": 12,
     "metadata": {},
     "output_type": "execute_result"
    }
   ],
   "source": [
    "'''Q.6 Make a surprise list with the elements 'Groucho' ,'Chico' and 'Harpo' '''\n",
    "\n",
    "suprise = ['Groucho', 'Chico', 'Harpo'] \n",
    "suprise"
   ]
  },
  {
   "cell_type": "code",
   "execution_count": 17,
   "id": "700340b1",
   "metadata": {},
   "outputs": [
    {
     "name": "stdout",
     "output_type": "stream",
     "text": [
      "surprise list in lower formet :  ['groucho', 'chico', 'harpo']\n",
      "reverse of surprise list :  ['harpo', 'chico', 'groucho']\n",
      "reverse and capital of surprise list :  ['HARPO', 'CHICO', 'GROUCHO']\n"
     ]
    }
   ],
   "source": [
    "'''Q.7 Lowercase the last element of the surprise list, reverse it, and then capitalize it.'''\n",
    "\n",
    "lower_surprise = [x.lower() for x in suprise]\n",
    "print('surprise list in lower formet : ', lower_surprise)\n",
    "\n",
    "reverse_list = lower_surprise[::-1]\n",
    "print('reverse of surprise list : ', reverse_list)\n",
    "\n",
    "reverse_cap_list = [x.upper() for x in reverse_list]\n",
    "print('reverse and capital of surprise list : ', reverse_cap_list)\n"
   ]
  },
  {
   "cell_type": "code",
   "execution_count": 18,
   "id": "50bedd8e",
   "metadata": {},
   "outputs": [
    {
     "data": {
      "text/plain": [
       "{'dog': 'chien', 'cat': 'chat', 'walrus': 'morse'}"
      ]
     },
     "execution_count": 18,
     "metadata": {},
     "output_type": "execute_result"
    }
   ],
   "source": [
    "'''Q.8 Make an English-to-French dictionary called e2f and print it. Here are your starter words: dog is\n",
    "chien, cat is chat, and walrus is morse.'''\n",
    "\n",
    "e2f = {'dog':'chien','cat':'chat','walrus':'morse'}\n",
    "e2f"
   ]
  },
  {
   "cell_type": "code",
   "execution_count": 19,
   "id": "af03bfc0",
   "metadata": {},
   "outputs": [
    {
     "data": {
      "text/plain": [
       "'morse'"
      ]
     },
     "execution_count": 19,
     "metadata": {},
     "output_type": "execute_result"
    }
   ],
   "source": [
    "'''Q.9 Write the French word for walrus in your three-word dictionary e2f.'''\n",
    "\n",
    "e2f['walrus']"
   ]
  },
  {
   "cell_type": "code",
   "execution_count": 25,
   "id": "0d52fbc1",
   "metadata": {},
   "outputs": [
    {
     "data": {
      "text/plain": [
       "{'chien': 'dog', 'chat': 'cat', 'morse': 'walrus'}"
      ]
     },
     "execution_count": 25,
     "metadata": {},
     "output_type": "execute_result"
    }
   ],
   "source": [
    "'''Q.10 Make a French-to-English dictionary called f2e from e2f. Use the items method.'''\n",
    "\n",
    "f2e = dict((key, value) for value, key in e2f.items())\n",
    "f2e"
   ]
  },
  {
   "cell_type": "code",
   "execution_count": 26,
   "id": "b6501849",
   "metadata": {},
   "outputs": [
    {
     "data": {
      "text/plain": [
       "'dog'"
      ]
     },
     "execution_count": 26,
     "metadata": {},
     "output_type": "execute_result"
    }
   ],
   "source": [
    "'''Q.10 Print the English version of the French word chien using f2e.'''\n",
    "\n",
    "f2e['chien']"
   ]
  },
  {
   "cell_type": "code",
   "execution_count": 28,
   "id": "a2a99ed1",
   "metadata": {},
   "outputs": [
    {
     "data": {
      "text/plain": [
       "{'cat', 'dog', 'walrus'}"
      ]
     },
     "execution_count": 28,
     "metadata": {},
     "output_type": "execute_result"
    }
   ],
   "source": [
    "'''Q.11 Make and print a set of English words from the keys in e2f.'''\n",
    "\n",
    "set(x for x in e2f.keys())"
   ]
  },
  {
   "cell_type": "code",
   "execution_count": 29,
   "id": "b29588fa",
   "metadata": {},
   "outputs": [
    {
     "data": {
      "text/plain": [
       "{'animals': {'cat': ['henri', 'Grumpy', 'Lucy'], 'octopi': '', 'emus': ''},\n",
       " 'plants': '',\n",
       " 'others': ''}"
      ]
     },
     "execution_count": 29,
     "metadata": {},
     "output_type": "execute_result"
    }
   ],
   "source": [
    "'''Q.12 Make a multilevel dictionary called life. Use these strings for the topmost keys: 'animals', 'plants', and 'other'.\n",
    "Make the 'animals' key refer to another dictionary with the keys 'cats', 'octopi', and 'emus'. Make the 'cats' key refer\n",
    "to a list of strings with the values 'Henri', 'Grumpy', and 'Lucy'.Make all the other keys refer to empty dictionaries.'''\n",
    "\n",
    "life = {'animals':{'cat':['henri', 'Grumpy', 'Lucy'], 'octopi':'', 'emus':''}, 'plants':'', 'others':''}\n",
    "life"
   ]
  },
  {
   "cell_type": "code",
   "execution_count": 33,
   "id": "4073c24c",
   "metadata": {},
   "outputs": [
    {
     "data": {
      "text/plain": [
       "dict_keys(['animals', 'plants', 'others'])"
      ]
     },
     "execution_count": 33,
     "metadata": {},
     "output_type": "execute_result"
    }
   ],
   "source": [
    "'''Q.14 Print the top-level keys of life.'''\n",
    "\n",
    "life.keys()"
   ]
  },
  {
   "cell_type": "code",
   "execution_count": 35,
   "id": "868e2d40",
   "metadata": {},
   "outputs": [
    {
     "data": {
      "text/plain": [
       "dict_keys(['cat', 'octopi', 'emus'])"
      ]
     },
     "execution_count": 35,
     "metadata": {},
     "output_type": "execute_result"
    }
   ],
   "source": [
    "'''Q.15 Print the keys for life['animals'].'''\n",
    "\n",
    "life['animals'].keys()"
   ]
  },
  {
   "cell_type": "code",
   "execution_count": 40,
   "id": "8b1f36c2",
   "metadata": {},
   "outputs": [
    {
     "data": {
      "text/plain": [
       "['henri', 'Grumpy', 'Lucy']"
      ]
     },
     "execution_count": 40,
     "metadata": {},
     "output_type": "execute_result"
    }
   ],
   "source": [
    "'''Q.16 Print the values for life['animals']['cats']'''\n",
    "\n",
    "life['animals']['cat']"
   ]
  }
 ],
 "metadata": {
  "kernelspec": {
   "display_name": "Python 3",
   "language": "python",
   "name": "python3"
  },
  "language_info": {
   "codemirror_mode": {
    "name": "ipython",
    "version": 3
   },
   "file_extension": ".py",
   "mimetype": "text/x-python",
   "name": "python",
   "nbconvert_exporter": "python",
   "pygments_lexer": "ipython3",
   "version": "3.8.8"
  }
 },
 "nbformat": 4,
 "nbformat_minor": 5
}
