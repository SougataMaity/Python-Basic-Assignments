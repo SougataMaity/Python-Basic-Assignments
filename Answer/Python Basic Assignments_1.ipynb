{
 "cells": [
  {
   "cell_type": "code",
   "execution_count": null,
   "id": "9d3d1667",
   "metadata": {},
   "outputs": [],
   "source": [
    "'''Q.1 In the below elements which of them are values or an expression? \n",
    "eg:- values can be integer or string and expressions will be mathematical operators.'''\n",
    "\n",
    "* is a expression it a mathematical operator.\n",
    "'hello' is a value because it's a string.\n",
    "-87.8 is a value because it's a integer.\n",
    "- is a expression it a mathematical operator.\n",
    "/ is a expression it a mathematical operator.\n",
    "+ is a expression it a mathematical operator.\n",
    "6 is a value because it's a integer."
   ]
  },
  {
   "cell_type": "code",
   "execution_count": null,
   "id": "373a140c",
   "metadata": {},
   "outputs": [],
   "source": [
    "'''Q.2 What is the difference between string and variable?'''\n",
    "\n",
    "Variable is a name of the location in the primary memory of your computer.Basically variable is a things name which store the\n",
    "information or values and it's called data.\n",
    "String is data type and store inside a variable, generally it write in python inside the quotes."
   ]
  },
  {
   "cell_type": "code",
   "execution_count": null,
   "id": "8462cb66",
   "metadata": {},
   "outputs": [],
   "source": [
    "'''Q.3 Describe three different data types'''\n",
    "\n",
    "Data types\n",
    "1. integer(int) : Whole numbers.\n",
    "2. String(str)  : Combination of any characters that appear on a keyboard, such as letters, numbers and symbols.\n",
    "3. boolean(bool): Data is restricted to True/False or yes/no options."
   ]
  },
  {
   "cell_type": "code",
   "execution_count": null,
   "id": "6f65f955",
   "metadata": {},
   "outputs": [],
   "source": [
    "'''Q.4 What is an expression made up of? What do all expressions do?'''\n",
    "\n",
    "An expression is a construct made up of variables, operators, and method invocations, which are constructed \n",
    "according to the syntax of the language, that evaluates to a single value.\n"
   ]
  },
  {
   "cell_type": "code",
   "execution_count": null,
   "id": "2e8e52d8",
   "metadata": {},
   "outputs": [],
   "source": [
    "'''Q.5 This assignment statements, like spam = 10. What is the difference between an\n",
    "expression and a statement?'''\n",
    "\n",
    "Expression is made up of values, containers, and mathematical operators (operands) and \n",
    "the statement is just like a command that a python interpreter executes like print.\n"
   ]
  },
  {
   "cell_type": "code",
   "execution_count": 2,
   "id": "4d1ecba3",
   "metadata": {},
   "outputs": [
    {
     "data": {
      "text/plain": [
       "23"
      ]
     },
     "execution_count": 2,
     "metadata": {},
     "output_type": "execute_result"
    }
   ],
   "source": [
    "'''Q.6 After running the following code, what does the variable bacon contain?\n",
    "bacon = 22\n",
    "bacon + 1'''\n",
    "\n",
    "bacon = 22\n",
    "bacon = bacon + 1\n",
    "bacon # Increase one item in bacon"
   ]
  },
  {
   "cell_type": "code",
   "execution_count": 3,
   "id": "beda2474",
   "metadata": {},
   "outputs": [
    {
     "name": "stdout",
     "output_type": "stream",
     "text": [
      "spamspamspam\n",
      "spamspamspam\n"
     ]
    }
   ],
   "source": [
    "'''Q.7 What should the values of the following two terms be?'''\n",
    "\n",
    "a = 'spam' + 'spamspam'\n",
    "b = 'spam' *3\n",
    "\n",
    "print(a)\n",
    "print(b)\n",
    "\n",
    "# Result of this two are same 'spamspamspam' "
   ]
  },
  {
   "cell_type": "code",
   "execution_count": null,
   "id": "c6e771c6",
   "metadata": {},
   "outputs": [],
   "source": [
    "'''Q.8 Why is eggs a valid variable name while 100 is invalid?'''\n",
    "\n",
    "Variable names should be start with alphabet. because if you use digit as start computer didn't understand \n",
    "whether it is a variable or constant or integer.\n"
   ]
  },
  {
   "cell_type": "code",
   "execution_count": null,
   "id": "52145169",
   "metadata": {},
   "outputs": [],
   "source": [
    "'''Q.9 What three functions can be used to get the integer, floating-point number, or string\n",
    "version of a value?'''\n",
    "\n",
    "Integer : int()\n",
    "floating-point : float()\n",
    "string : str()"
   ]
  },
  {
   "cell_type": "code",
   "execution_count": 2,
   "id": "2c20f52c",
   "metadata": {},
   "outputs": [
    {
     "ename": "TypeError",
     "evalue": "can only concatenate str (not \"int\") to str",
     "output_type": "error",
     "traceback": [
      "\u001b[1;31m---------------------------------------------------------------------------\u001b[0m",
      "\u001b[1;31mTypeError\u001b[0m                                 Traceback (most recent call last)",
      "\u001b[1;32m<ipython-input-2-06999fa292c5>\u001b[0m in \u001b[0;36m<module>\u001b[1;34m\u001b[0m\n\u001b[0;32m      1\u001b[0m \u001b[1;34m'''Q.10 Why does this expression cause an error? How can you fix it?'''\u001b[0m\u001b[1;33m\u001b[0m\u001b[1;33m\u001b[0m\u001b[0m\n\u001b[0;32m      2\u001b[0m \u001b[1;33m\u001b[0m\u001b[0m\n\u001b[1;32m----> 3\u001b[1;33m \u001b[1;34m'I have eaten'\u001b[0m \u001b[1;33m+\u001b[0m \u001b[1;36m99\u001b[0m \u001b[1;33m+\u001b[0m \u001b[1;34m'burritos'\u001b[0m\u001b[1;33m\u001b[0m\u001b[1;33m\u001b[0m\u001b[0m\n\u001b[0m\u001b[0;32m      4\u001b[0m \u001b[1;31m# Here 99 not string so it give error\u001b[0m\u001b[1;33m\u001b[0m\u001b[1;33m\u001b[0m\u001b[1;33m\u001b[0m\u001b[0m\n",
      "\u001b[1;31mTypeError\u001b[0m: can only concatenate str (not \"int\") to str"
     ]
    }
   ],
   "source": [
    "'''Q.10 Why does this expression cause an error? How can you fix it?'''\n",
    "\n",
    "'I have eaten' + 99 + 'burritos'\n",
    "# Here 99 not string so it give error"
   ]
  },
  {
   "cell_type": "code",
   "execution_count": 3,
   "id": "a8261862",
   "metadata": {},
   "outputs": [
    {
     "data": {
      "text/plain": [
       "'I have eaten 99 burritors'"
      ]
     },
     "execution_count": 3,
     "metadata": {},
     "output_type": "execute_result"
    }
   ],
   "source": [
    "# If we convart int to str then it run\n",
    "'I have eaten' + ' 99 ' + 'burritors'"
   ]
  }
 ],
 "metadata": {
  "kernelspec": {
   "display_name": "Python 3",
   "language": "python",
   "name": "python3"
  },
  "language_info": {
   "codemirror_mode": {
    "name": "ipython",
    "version": 3
   },
   "file_extension": ".py",
   "mimetype": "text/x-python",
   "name": "python",
   "nbconvert_exporter": "python",
   "pygments_lexer": "ipython3",
   "version": "3.8.8"
  }
 },
 "nbformat": 4,
 "nbformat_minor": 5
}
