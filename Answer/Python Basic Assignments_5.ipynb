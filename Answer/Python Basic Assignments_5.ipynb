{
 "cells": [
  {
   "cell_type": "code",
   "execution_count": 2,
   "id": "b3a962c4",
   "metadata": {},
   "outputs": [
    {
     "data": {
      "text/plain": [
       "dict"
      ]
     },
     "execution_count": 2,
     "metadata": {},
     "output_type": "execute_result"
    }
   ],
   "source": [
    "'''Q.1 What does an empty dictionary's code look like?'''\n",
    "\n",
    "dic = {}\n",
    "type(dict)"
   ]
  },
  {
   "cell_type": "code",
   "execution_count": 5,
   "id": "6d7df0b9",
   "metadata": {},
   "outputs": [
    {
     "name": "stdout",
     "output_type": "stream",
     "text": [
      "key :  dict_keys(['foo'])\n",
      "value : dict_values([42])\n"
     ]
    }
   ],
   "source": [
    "'''Q.2 What is the value of a dictionary value with the key 'foo' and the value 42?'''\n",
    "\n",
    "dic = {'foo': 42}\n",
    "print('key : ', dic.keys())\n",
    "print('value :', dic.values())"
   ]
  },
  {
   "cell_type": "code",
   "execution_count": null,
   "id": "eae74be0",
   "metadata": {},
   "outputs": [],
   "source": [
    "'''Q.3 What is the most significant distinction between a dictionary and a list?'''\n",
    "\n",
    "A list is an ordered sequence of objects, whereas dictionaries are unordered sets. \n",
    "However, the main difference is that items in dictionaries are accessed via keys and not via their position. \n",
    "Any key of the dictionary is associated (or mapped) to a value."
   ]
  },
  {
   "cell_type": "code",
   "execution_count": null,
   "id": "d6f2dd18",
   "metadata": {},
   "outputs": [],
   "source": [
    "'''Q.4 What happens if you try to access spam['foo'] if spam is {'bar': 100}?'''\n",
    "\n",
    "The key ‘foo’ is not defined, so the program fails, get a KeyError error."
   ]
  },
  {
   "cell_type": "code",
   "execution_count": null,
   "id": "93d15e19",
   "metadata": {},
   "outputs": [],
   "source": [
    "'''Q.5 If a dictionary is stored in spam, what is the difference between the expressions 'cat' in spam and\n",
    "'cat' in spam.keys()?'''\n",
    "\n",
    "There is no difference. The in operator checks whether a value exists as a key in the dictionary."
   ]
  },
  {
   "cell_type": "code",
   "execution_count": null,
   "id": "56a6477c",
   "metadata": {},
   "outputs": [],
   "source": [
    "'''Q.6 If a dictionary is stored in spam, what is the difference between the expressions 'cat' in spam \n",
    "and 'cat' in spam.values()?'''\n",
    "\n",
    "Here 'cat' in spam checks whether there is a 'cat' key in the dictionary, while 'cat' in spam.values() \n",
    "checks whether there is a value 'cat' for one of the keys in spam."
   ]
  },
  {
   "cell_type": "code",
   "execution_count": null,
   "id": "16fffa13",
   "metadata": {},
   "outputs": [],
   "source": [
    "'''Q.7 What is a shortcut for the following code?\n",
    "if 'color' not in spam:\n",
    "spam['color'] = 'black' '''\n",
    "\n",
    "spam.setdefault('color', 'black')"
   ]
  },
  {
   "cell_type": "code",
   "execution_count": null,
   "id": "4787d025",
   "metadata": {},
   "outputs": [],
   "source": [
    "'''Q.8 What module and function can be used to \"pretty print\" dictionary values?'''\n",
    "\n",
    "pprint.pprint()"
   ]
  }
 ],
 "metadata": {
  "kernelspec": {
   "display_name": "Python 3",
   "language": "python",
   "name": "python3"
  },
  "language_info": {
   "codemirror_mode": {
    "name": "ipython",
    "version": 3
   },
   "file_extension": ".py",
   "mimetype": "text/x-python",
   "name": "python",
   "nbconvert_exporter": "python",
   "pygments_lexer": "ipython3",
   "version": "3.8.8"
  }
 },
 "nbformat": 4,
 "nbformat_minor": 5
}
