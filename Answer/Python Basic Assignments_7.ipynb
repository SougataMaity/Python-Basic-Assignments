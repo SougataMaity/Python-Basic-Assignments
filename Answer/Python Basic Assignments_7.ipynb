{
 "cells": [
  {
   "cell_type": "code",
   "execution_count": null,
   "id": "c3cb819c",
   "metadata": {},
   "outputs": [],
   "source": [
    "'''Q.1 What is the name of the feature responsible for generating Regex objects?'''\n",
    "\n",
    "re.compile() function returns Regex object"
   ]
  },
  {
   "cell_type": "code",
   "execution_count": null,
   "id": "fe39ecd5",
   "metadata": {},
   "outputs": [],
   "source": [
    "'''Q.2 Why do raw strings often appear in Regex objects?'''\n",
    "\n",
    "Raw strings are used so that backslashes do not have to be escaped."
   ]
  },
  {
   "cell_type": "code",
   "execution_count": null,
   "id": "bb234bd6",
   "metadata": {},
   "outputs": [],
   "source": [
    "'''Q.3 What does the search() method return?'''\n",
    "\n",
    "The search() method returns Match objects."
   ]
  },
  {
   "cell_type": "code",
   "execution_count": null,
   "id": "95fcfd23",
   "metadata": {},
   "outputs": [],
   "source": [
    "'''Q.4 From a Match item, how do you get the actual strings that match the pattern?'''\n",
    "\n",
    "The group() method returns strings of the matched text."
   ]
  },
  {
   "cell_type": "code",
   "execution_count": null,
   "id": "7585d40b",
   "metadata": {},
   "outputs": [],
   "source": [
    "'''Q.5 In the regex which created from the r'(\\d\\d\\d)-(\\d\\d\\d-\\d\\d\\d\\d)', what does group zero cover?\n",
    "Group 2? Group 1?'''\n",
    "\n",
    "Group 0 is the entire match, group 1 covers the first set of parentheses, \n",
    "and group 2 covers the second set of parentheses."
   ]
  },
  {
   "cell_type": "code",
   "execution_count": null,
   "id": "b9582fa9",
   "metadata": {},
   "outputs": [],
   "source": [
    "'''Q.6 In standard expression syntax, parentheses and intervals have distinct meanings. How can you tell\n",
    "a regex that you want it to fit real parentheses and periods?'''\n",
    "\n",
    "Periods and parentheses can be escaped with a backslash: \\., \\(, and \\)."
   ]
  },
  {
   "cell_type": "code",
   "execution_count": null,
   "id": "22ff037e",
   "metadata": {},
   "outputs": [],
   "source": [
    "'''Q.7 The findall() method returns a string list or a list of string tuples. What causes it to return one of\n",
    "the two options?'''\n",
    "\n",
    "If the regex has no groups, a list of strings is returned. If the regex has groups, \n",
    "a list of tuples of strings is returned."
   ]
  },
  {
   "cell_type": "code",
   "execution_count": null,
   "id": "a67d886f",
   "metadata": {},
   "outputs": [],
   "source": [
    "'''Q.8 In standard expressions, what does the | character mean?'''\n",
    "\n",
    "The | character signifies matching \"either, or\" between two groups."
   ]
  },
  {
   "cell_type": "code",
   "execution_count": null,
   "id": "9daf5d2e",
   "metadata": {},
   "outputs": [],
   "source": [
    "'''Q.9 In regular expressions, what does the character stand for?'''"
   ]
  },
  {
   "cell_type": "code",
   "execution_count": null,
   "id": "5bc430aa",
   "metadata": {},
   "outputs": [],
   "source": [
    "'''Q.10 10.In regular expressions, what is the difference between the + and * characters?'''\n",
    "\n",
    "The + matches one or more. The * matches zero or more."
   ]
  },
  {
   "cell_type": "code",
   "execution_count": null,
   "id": "205c3ccb",
   "metadata": {},
   "outputs": [],
   "source": [
    "'''Q.11 What is the difference between {4} and {4,5} in regular expression?'''"
   ]
  },
  {
   "cell_type": "code",
   "execution_count": null,
   "id": "4c6a3114",
   "metadata": {},
   "outputs": [],
   "source": [
    "'''Q.12 What do you mean by the \\d, \\w, and \\s shorthand character classes signify in regular\n",
    "expressions?'''\n",
    "\n",
    "\\d is short for · 0-9 \n",
    "\\w stands for “word character”. It always matches the ASCII characters · A-Z \n",
    "\\s stands for “whitespace character”"
   ]
  },
  {
   "cell_type": "code",
   "execution_count": null,
   "id": "f7693bdd",
   "metadata": {},
   "outputs": [],
   "source": [
    "'''Q.13 What do means by \\D, \\W, and \\S shorthand character classes signify in regular expressions?'''\n",
    "\n",
    "\\W: the \"non-word character\" class represents the regex range [^A-Za-z0-9_]\n",
    "\\D: the \"non-digit character\" class represents the regex range [^0-9]\n",
    "\\S: the “non-whitespace character” class represents the regex range [^ \\t\\r\\n\\f\\v]"
   ]
  },
  {
   "cell_type": "code",
   "execution_count": null,
   "id": "17707297",
   "metadata": {},
   "outputs": [],
   "source": [
    "'''Q.14 What is the difference between .*? and .*?'''"
   ]
  },
  {
   "cell_type": "code",
   "execution_count": null,
   "id": "2a02494e",
   "metadata": {},
   "outputs": [],
   "source": [
    "'''Q.15 What is the syntax for matching both numbers and lowercase letters with a character class?'''\n",
    "\n",
    "the regular expression \"[ A-Za-z] \" specifies to match any single uppercase or lowercase lette"
   ]
  },
  {
   "cell_type": "code",
   "execution_count": null,
   "id": "8a2fe6a6",
   "metadata": {},
   "outputs": [],
   "source": [
    "'''Q.16 What is the procedure for making a normal expression in regax case insensitive?'''\n",
    "\n",
    "re. IGNORECASE to do case insensitive regular expressions\n",
    "IGNORECASE as an optional parameter in regular expression calls to do case insensitive regular expressions."
   ]
  },
  {
   "cell_type": "code",
   "execution_count": null,
   "id": "4b2172b9",
   "metadata": {},
   "outputs": [],
   "source": [
    "'''Q.17 What does the . character normally match? What does it match if re.DOTALL is passed as 2nd\n",
    "argument in re.compile()?'''\n",
    "\n",
    "character normally matches any character except the newline character. If re. DOTALL is passed as the second argument to re. compile(), then the dot will also match newline characters."
   ]
  },
  {
   "cell_type": "code",
   "execution_count": null,
   "id": "e67f68a4",
   "metadata": {},
   "outputs": [],
   "source": [
    "'''Q.18 If numReg = re.compile(r'\\d+'), what will numRegex.sub('X', '11 drummers, 10 pipers, five rings, 4\n",
    "hen') return?'''"
   ]
  },
  {
   "cell_type": "code",
   "execution_count": null,
   "id": "3a26c4f8",
   "metadata": {},
   "outputs": [],
   "source": [
    "'''Q.19 What does passing re.VERBOSE as the 2nd argument to re.compile() allow to do?'''\n",
    "\n",
    "VERBOSE as the second argument to re. compile() allow you to do? The re. VERBOSE argument allows you to add whitespace and comments to the string passed to re."
   ]
  },
  {
   "cell_type": "code",
   "execution_count": null,
   "id": "4dc7507e",
   "metadata": {},
   "outputs": [],
   "source": [
    "'''Q.20 How would you write a regex that match a number with comma for every three digits? It must\n",
    "match the given following:\n",
    "'42'\n",
    "'1,234'\n",
    "'6,368,745' '''\n",
    "\n",
    "(\\d{1,3}(,\\d{3})*)(?![0-9,])\n"
   ]
  }
 ],
 "metadata": {
  "kernelspec": {
   "display_name": "Python 3",
   "language": "python",
   "name": "python3"
  },
  "language_info": {
   "codemirror_mode": {
    "name": "ipython",
    "version": 3
   },
   "file_extension": ".py",
   "mimetype": "text/x-python",
   "name": "python",
   "nbconvert_exporter": "python",
   "pygments_lexer": "ipython3",
   "version": "3.8.8"
  }
 },
 "nbformat": 4,
 "nbformat_minor": 5
}
