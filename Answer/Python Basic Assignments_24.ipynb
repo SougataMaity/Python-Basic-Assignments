{
 "cells": [
  {
   "cell_type": "markdown",
   "id": "3cfe20b9",
   "metadata": {},
   "source": [
    "Q.1 What is the relationship between def statements and lambda expressions ?\n",
    "\n",
    "Both are the function def keyword used to define a normal function and\n",
    "lambda expression is a anonymous function it means function without any name"
   ]
  },
  {
   "cell_type": "markdown",
   "id": "1bd1b69f",
   "metadata": {},
   "source": [
    "Q.2 What is the benefit of lambda?\n",
    "\n",
    "This function can have any number of arguments but only one expression, which is evaluated and returned.\n",
    "It has various uses in particular fields of programming besides other types of expressions in functions."
   ]
  },
  {
   "cell_type": "markdown",
   "id": "1a147556",
   "metadata": {},
   "source": [
    "Q.3 Compare and contrast map, filter, and reduce.\n",
    "\n",
    "map applies as a transformation to an element. The map() function iterates through all items in the given iterable and executes the function we passed as an argument on each of them. Syntax : map(function, iterable(s))\n",
    "\n",
    "filter accumulates only elements matching a condition. filter() forms a new list that contains only elements that satisfy a certain condition, i.e. the function we passed returns True Syntax : filter(function, iterable(s))\n",
    "\n",
    "reduce accumulates all elements to a single value, by using immutable values reduce() works by calling the function we passed for the first two items in the sequence. The result returned by the function is used in another call to function alongside with the next (third in this case), element Syntax : reduce(function, sequence[initial])"
   ]
  },
  {
   "cell_type": "code",
   "execution_count": null,
   "id": "ad489a25",
   "metadata": {},
   "outputs": [],
   "source": [
    "Q.4 What are function annotations, and how are they used?"
   ]
  },
  {
   "cell_type": "code",
   "execution_count": null,
   "id": "5e889b47",
   "metadata": {},
   "outputs": [],
   "source": [
    "Q.5 What are recursive functions, and how are they used?"
   ]
  },
  {
   "cell_type": "code",
   "execution_count": null,
   "id": "63258d99",
   "metadata": {},
   "outputs": [],
   "source": [
    "Q.6 What are some general design guidelines for coding functions?"
   ]
  },
  {
   "cell_type": "code",
   "execution_count": null,
   "id": "919a2000",
   "metadata": {},
   "outputs": [],
   "source": [
    "Q.7 Name three or more ways that functions can communicate results to a caller."
   ]
  }
 ],
 "metadata": {
  "kernelspec": {
   "display_name": "Python 3",
   "language": "python",
   "name": "python3"
  },
  "language_info": {
   "codemirror_mode": {
    "name": "ipython",
    "version": 3
   },
   "file_extension": ".py",
   "mimetype": "text/x-python",
   "name": "python",
   "nbconvert_exporter": "python",
   "pygments_lexer": "ipython3",
   "version": "3.8.8"
  }
 },
 "nbformat": 4,
 "nbformat_minor": 5
}
