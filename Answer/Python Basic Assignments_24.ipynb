{
 "cells": [
  {
   "cell_type": "markdown",
   "id": "3cfe20b9",
   "metadata": {},
   "source": [
    "Q.1 What is the relationship between def statements and lambda expressions ?\n",
    "\n",
    "Both are the function def keyword used to define a normal function and\n",
    "lambda expression is a anonymous function it means function without any name"
   ]
  },
  {
   "cell_type": "markdown",
   "id": "1bd1b69f",
   "metadata": {},
   "source": [
    "Q.2 What is the benefit of lambda?\n",
    "\n",
    "This function can have any number of arguments but only one expression, which is evaluated and returned.\n",
    "It has various uses in particular fields of programming besides other types of expressions in functions."
   ]
  },
  {
   "cell_type": "markdown",
   "id": "1a147556",
   "metadata": {},
   "source": [
    "Q.3 Compare and contrast map, filter, and reduce.\n",
    "\n",
    "map applies as a transformation to an element. The map() function iterates through all items in the given iterable and executes the function we passed as an argument on each of them. Syntax : map(function, iterable(s))\n",
    "\n",
    "filter accumulates only elements matching a condition. filter() forms a new list that contains only elements that satisfy a certain condition, i.e. the function we passed returns True Syntax : filter(function, iterable(s))\n",
    "\n",
    "reduce accumulates all elements to a single value, by using immutable values reduce() works by calling the function we passed for the first two items in the sequence. The result returned by the function is used in another call to function alongside with the next (third in this case), element Syntax : reduce(function, sequence[initial])"
   ]
  },
  {
   "cell_type": "markdown",
   "id": "ae73ce0f",
   "metadata": {},
   "source": [
    "'''Q.4 What are function annotations, and how are they used?\n",
    "\n",
    "Function annotations are arbitrary python expressions that are associated with various part of functions.\n",
    "These expressions are evaluated at compile time and have no life in python’s runtime environment.'''\n",
    "\n"
   ]
  },
  {
   "cell_type": "markdown",
   "id": "f98ed682",
   "metadata": {},
   "source": [
    "Q.5 What are recursive functions, and how are they used?\n",
    "\n",
    "A recursive function is a function that calls itself during its execution. The process may repeat several times"
   ]
  },
  {
   "cell_type": "code",
   "execution_count": 3,
   "id": "d4489313",
   "metadata": {},
   "outputs": [
    {
     "data": {
      "text/plain": [
       "120"
      ]
     },
     "execution_count": 3,
     "metadata": {},
     "output_type": "execute_result"
    }
   ],
   "source": [
    "def fact(num):\n",
    "    if num == 1:\n",
    "        return num\n",
    "    else:\n",
    "        return num*fact(num-1)\n",
    "\n",
    "fact(5)"
   ]
  },
  {
   "cell_type": "markdown",
   "id": "905c132b",
   "metadata": {},
   "source": [
    "Q.6 What are some general design guidelines for coding functions?\n",
    "\n",
    "Safe: It can be used without causing harm.\n",
    "Secure: It can't be hacked.\n",
    "Reliable: It functions as it should, every time.\n",
    "Testable: It can be tested at the code level.\n",
    "Maintainable: It can be maintained, even as your codebase grows.\n",
    "Portable: It works the same in every environment."
   ]
  },
  {
   "cell_type": "markdown",
   "id": "4b05104d",
   "metadata": {},
   "source": [
    "Q.7 Name three or more ways that functions can communicate results to a caller.\n",
    "\n",
    "1. print\n",
    "2. return\n",
    "3. yield"
   ]
  }
 ],
 "metadata": {
  "kernelspec": {
   "display_name": "Python 3",
   "language": "python",
   "name": "python3"
  },
  "language_info": {
   "codemirror_mode": {
    "name": "ipython",
    "version": 3
   },
   "file_extension": ".py",
   "mimetype": "text/x-python",
   "name": "python",
   "nbconvert_exporter": "python",
   "pygments_lexer": "ipython3",
   "version": "3.8.8"
  }
 },
 "nbformat": 4,
 "nbformat_minor": 5
}
