{
 "cells": [
  {
   "cell_type": "code",
   "execution_count": 1,
   "id": "9b5d1d60",
   "metadata": {},
   "outputs": [
    {
     "name": "stdout",
     "output_type": "stream",
     "text": [
      "<__main__.Things object at 0x0000024F01679FD0>\n"
     ]
    }
   ],
   "source": [
    "'''Q.1 Make a class called Thing with no contents and print it. Then, create an object called example\n",
    "from this class and also print it. Are the printed values the same or different?'''\n",
    "\n",
    "class Things:\n",
    "    pass\n",
    "\n",
    "example = Things()\n",
    "print(example)"
   ]
  },
  {
   "cell_type": "code",
   "execution_count": 3,
   "id": "867e45e8",
   "metadata": {},
   "outputs": [
    {
     "name": "stdout",
     "output_type": "stream",
     "text": [
      "abc\n"
     ]
    }
   ],
   "source": [
    "'''Q.2 Create a new class called Thing2 and add the value &#39;abc&#39; to the letters class attribute. Letters\n",
    "should be printed.'''\n",
    "\n",
    "class Things2:\n",
    "    letter = 'abc'\n",
    "\n",
    "print(Things2.letter)"
   ]
  },
  {
   "cell_type": "code",
   "execution_count": 10,
   "id": "83a732cc",
   "metadata": {},
   "outputs": [
    {
     "name": "stdout",
     "output_type": "stream",
     "text": [
      "<class '__main__.Things3'>\n",
      "xyz\n"
     ]
    }
   ],
   "source": [
    "'''Q.3 Make yet another class called, of course, Thing3. This time, assign the value 'xyz' to an instance\n",
    "(object) attribute called letters. Print letters. Do you need to make an object from the class to do\n",
    "this?'''\n",
    "\n",
    "class Things3:\n",
    "    def __init__(self):\n",
    "        self.letter = 'xyz'\n",
    "\n",
    "print(Things3)\n",
    "# Yes need to make an object from the class to do this\n",
    "result = Things3()\n",
    "print(result.letter)"
   ]
  },
  {
   "cell_type": "code",
   "execution_count": 15,
   "id": "16bbf402",
   "metadata": {},
   "outputs": [],
   "source": [
    "'''Q.4 Create an Element class with the instance attributes name, symbol, and number. Create a class\n",
    "object with the values 'Hydrogen', 'H' and 1.'''\n",
    "\n",
    "class Element:\n",
    "    def __init__(self, name, symbol, number):\n",
    "        self.name = name\n",
    "        self.symbol = symbol\n",
    "        self.number = number\n",
    "        \n",
    "hydrogen = Element('Hydrogen', 'H', 1)"
   ]
  },
  {
   "cell_type": "code",
   "execution_count": 21,
   "id": "4e68d52b",
   "metadata": {},
   "outputs": [
    {
     "name": "stdout",
     "output_type": "stream",
     "text": [
      "Hydrogen\n",
      "H\n",
      "1\n"
     ]
    }
   ],
   "source": [
    "'''Q.5 Make a dictionary with these keys and values: 'name': 'Hydrogen', 'symbol': 'H', 'number': 1. Then,\n",
    "create an object called hydrogen from class Element using this dictionary.'''\n",
    "\n",
    "hy_dic = {'name': 'Hydrogen', 'symbol': 'H', 'number': 1}\n",
    "hydrogen = Element(hy_dic['name'], hy_dic['symbol'], hy_dic['number'])\n",
    "print(hydrogen.name)\n",
    "print(hydrogen.symbol)\n",
    "print(hydrogen.number)"
   ]
  },
  {
   "cell_type": "code",
   "execution_count": 32,
   "id": "6e940bb8",
   "metadata": {},
   "outputs": [
    {
     "data": {
      "text/plain": [
       "'name : Hydrogen, symbol : H, number : 1'"
      ]
     },
     "execution_count": 32,
     "metadata": {},
     "output_type": "execute_result"
    }
   ],
   "source": [
    "'''Q.6 For the Element class, define a method called dump() that prints the values of the object’s attributes \n",
    "(name, symbol, and number). Create the hydrogen object from this new definition and use dump() to print its attributes.'''\n",
    "\n",
    "class Element:\n",
    "    def __init__(self, name, symbol, number):\n",
    "        self.name = name\n",
    "        self.symbol = symbol\n",
    "        self.number = number\n",
    "    def dump(self):\n",
    "        return(f'name : {self.name}, symbol : {self.symbol}, number : {self.number}')\n",
    "\n",
    "hydrogen = Element(**hy_dic)\n",
    "hydrogen.dump()"
   ]
  },
  {
   "cell_type": "code",
   "execution_count": 31,
   "id": "66efce7c",
   "metadata": {},
   "outputs": [
    {
     "name": "stdout",
     "output_type": "stream",
     "text": [
      "name : Hydrogen, symbol : H, number : 1\n"
     ]
    }
   ],
   "source": [
    "'''Q.7 Call print(hydrogen). In the definition of Element, change the name of method dump to __str__, \n",
    "create a new hydrogen object, and call print(hydrogen) again.'''\n",
    "\n",
    "class Element:\n",
    "    def __init__(self, name, symbol, number):\n",
    "        self.name = name\n",
    "        self.symbol = symbol\n",
    "        self.number = number\n",
    "    def __str__(self):\n",
    "        return (f'name : {self.name}, symbol : {self.symbol}, number : {self.number}')\n",
    "\n",
    "hydrogen = Element(**hy_dic)\n",
    "print(hydrogen)"
   ]
  },
  {
   "cell_type": "code",
   "execution_count": 36,
   "id": "8dd4815f",
   "metadata": {},
   "outputs": [
    {
     "name": "stdout",
     "output_type": "stream",
     "text": [
      "Hydrogen\n",
      "H\n",
      "1\n"
     ]
    }
   ],
   "source": [
    "'''Q.8 Modify Element to make the attributes name, symbol, and number private. Define a getter\n",
    "property for each to return its value.'''\n",
    "\n",
    "class Element:\n",
    "    def __init__(self, name, symbol, number):\n",
    "        self.name = name\n",
    "        self.symbol = symbol\n",
    "        self.number = number\n",
    "    def name(self):\n",
    "        return self.name\n",
    "    \n",
    "    def symbol(self):\n",
    "        return self.symbol\n",
    "    \n",
    "    def number(self):\n",
    "        return self.number\n",
    "    \n",
    "hydrogen = Element('Hydrogen', 'H', 1)\n",
    "print(hydrogen.name)\n",
    "print(hydrogen.symbol)\n",
    "print(hydrogen.number)"
   ]
  },
  {
   "cell_type": "code",
   "execution_count": 42,
   "id": "fd570dc0",
   "metadata": {},
   "outputs": [
    {
     "name": "stdout",
     "output_type": "stream",
     "text": [
      "berries\n",
      "clover\n",
      "campers\n"
     ]
    }
   ],
   "source": [
    "'''Q.9 Define three classes: Bear, Rabbit, and Octothorpe. For each, define only one method: eats(). This should return\n",
    "'berries' (Bear), 'clover' (Rabbit), or 'campers' (Octothorpe). Create one object from each and print what it eats.'''\n",
    "\n",
    "class Bear:\n",
    "    def eats(self):\n",
    "        return 'berries'\n",
    "\n",
    "class Rabbit:\n",
    "    def eats(self):\n",
    "        return 'clover'\n",
    "    \n",
    "class Octothorpe:\n",
    "    def eats(self):\n",
    "        return 'campers'\n",
    "    \n",
    "    \n",
    "b = Bear()\n",
    "print(b.eats())\n",
    "\n",
    "r = Rabbit()\n",
    "print(r.eats())\n",
    "\n",
    "c = Octothorpe()\n",
    "print(c.eats())"
   ]
  },
  {
   "cell_type": "code",
   "execution_count": 49,
   "id": "ea2ad85d",
   "metadata": {},
   "outputs": [
    {
     "name": "stdout",
     "output_type": "stream",
     "text": [
      "('disintegreate', 'crush', 'ring')\n"
     ]
    }
   ],
   "source": [
    "'''Q.10 Define these classes: Laser, Claw, and SmartPhone. Each has only one method: does(). This returns 'disintegrate'\n",
    "(Laser), 'crush' (Claw), or 'ring' (SmartPhone). Then, define the class Robot that has one instance (object) of each of \n",
    "these.Define a does() method for the Robot that prints what its component objects do.'''\n",
    "\n",
    "class Laser:\n",
    "    def does(self):\n",
    "        return 'disintegreate'\n",
    "    \n",
    "class Claw:\n",
    "    def does(self):\n",
    "        return 'crush'\n",
    "    \n",
    "class SmartPhone:\n",
    "    def does(self):\n",
    "        return 'ring'\n",
    "    \n",
    "class Robot:\n",
    "    def __init__(self):\n",
    "        self.laser = Laser()\n",
    "        self.claw = Claw()\n",
    "        self.smartPhone = SmartPhone()\n",
    "    def does(self):\n",
    "        return self.laser.does(), self.claw.does(), self.smartPhone.does()\n",
    "\n",
    "res = Robot()\n",
    "print(res.does())"
   ]
  }
 ],
 "metadata": {
  "kernelspec": {
   "display_name": "Python 3",
   "language": "python",
   "name": "python3"
  },
  "language_info": {
   "codemirror_mode": {
    "name": "ipython",
    "version": 3
   },
   "file_extension": ".py",
   "mimetype": "text/x-python",
   "name": "python",
   "nbconvert_exporter": "python",
   "pygments_lexer": "ipython3",
   "version": "3.8.8"
  }
 },
 "nbformat": 4,
 "nbformat_minor": 5
}
