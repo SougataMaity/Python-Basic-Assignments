{
 "cells": [
  {
   "cell_type": "code",
   "execution_count": null,
   "id": "508f31d8",
   "metadata": {},
   "outputs": [],
   "source": [
    "'''Q.1 What does RGBA stand for?'''\n",
    "\n",
    "RGBA(Red-Green-Blue-Alpha)\n",
    "The RGB color model is extended in this specification to include “alpha” to allow specification of the opacity of a color."
   ]
  },
  {
   "cell_type": "code",
   "execution_count": null,
   "id": "43be96ed",
   "metadata": {},
   "outputs": [],
   "source": [
    "'''Q.2 From the Pillow module, how do you get the RGBA value of any images?'''\n",
    "\n",
    "Change the color. Data will be an Imaging Core object containing box tuple."
   ]
  },
  {
   "cell_type": "code",
   "execution_count": null,
   "id": "0b23cd1f",
   "metadata": {},
   "outputs": [],
   "source": [
    "'''Q.3 What is a box tuple, and how does it work?'''\n",
    "\n",
    "box tuple argument. This means Pillow is expecting a tuple of four integer coordinates that represent a rectangular region in an image. The four integers are, in order, as follows:\n",
    "Left The x-coordinate of the leftmost edge of the box.\n",
    "Top The y-coordinate of the top edge of the box.\n",
    "Right The x-coordinate of one pixel to the right of the rightmost edge of the box. This integer must be greater than the left integer.\n",
    "Bottom The y-coordinate of one pixel lower than the bottom edge of the box. This integer must be greater than the top integer."
   ]
  },
  {
   "cell_type": "code",
   "execution_count": null,
   "id": "9408c724",
   "metadata": {},
   "outputs": [],
   "source": [
    "'''Q.4 Use your image and load in notebook then, How can you find out the width and height of an\n",
    "Image object?'''\n",
    "\n",
    "In Pillow (PIL): Get image size (width, height) with size,width, height.\n"
   ]
  },
  {
   "cell_type": "code",
   "execution_count": null,
   "id": "7e269c97",
   "metadata": {},
   "outputs": [],
   "source": [
    "'''Q.5 What method would you call to get Image object for a 100×100 image, excluding the lower-left\n",
    "quarter of it?'''\n",
    "\n",
    "The thumbnail() methods take a tuple specifying the new immage sizand convert the image."
   ]
  },
  {
   "cell_type": "code",
   "execution_count": null,
   "id": "a328478a",
   "metadata": {},
   "outputs": [],
   "source": [
    "'''Q.6 After making changes to an Image object, how could you save it as an image file?'''\n",
    "\n",
    "For saving PLT.save()"
   ]
  },
  {
   "cell_type": "code",
   "execution_count": null,
   "id": "02acdef6",
   "metadata": {},
   "outputs": [],
   "source": [
    "'''Q.7 What module contains Pillow’s shape-drawing code?'''\n",
    "\n",
    "An image can be well-thought-out to be a two-dimensional array of pixels (picture elements). \n",
    "pixel is the smallest dot of color being supported."
   ]
  },
  {
   "cell_type": "code",
   "execution_count": null,
   "id": "14964151",
   "metadata": {},
   "outputs": [],
   "source": [
    "'''Q.8 Image objects do not have drawing methods. What kind of object does? How do you get this kind\n",
    "of object?'''\n",
    "\n",
    "ImageDraw module provide simple 2D graphics for immage object.\n",
    "Suppose draw a rectange use ImageDraw.rectangle()"
   ]
  }
 ],
 "metadata": {
  "kernelspec": {
   "display_name": "Python 3",
   "language": "python",
   "name": "python3"
  },
  "language_info": {
   "codemirror_mode": {
    "name": "ipython",
    "version": 3
   },
   "file_extension": ".py",
   "mimetype": "text/x-python",
   "name": "python",
   "nbconvert_exporter": "python",
   "pygments_lexer": "ipython3",
   "version": "3.8.8"
  }
 },
 "nbformat": 4,
 "nbformat_minor": 5
}
