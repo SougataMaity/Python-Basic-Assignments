{
 "cells": [
  {
   "cell_type": "code",
   "execution_count": null,
   "id": "ba55c56b",
   "metadata": {},
   "outputs": [],
   "source": [
    "'''Q.1 How do you distinguish between shutil.copy() and shutil.copytree()?'''\n",
    "\n",
    "While shutil. copy() will copy a single file, shutil. copytree() will copy an entire folder and every folder and file contained in it."
   ]
  },
  {
   "cell_type": "code",
   "execution_count": null,
   "id": "8b6453f6",
   "metadata": {},
   "outputs": [],
   "source": [
    "'''Q.2 What function is used to rename files?'''\n",
    "\n",
    "rename() function is used to change the name of the file or directory i.e. from old_name to new_name without changing the content present in the file.\n",
    "This function takes name of the file as its argument."
   ]
  },
  {
   "cell_type": "code",
   "execution_count": null,
   "id": "34403141",
   "metadata": {},
   "outputs": [],
   "source": [
    "'''Q.3 What is the difference between the delete functions in the send2trash and shutil modules?'''\n",
    "\n",
    "The send2trash functions will move a file or folder to the recycle bin,\n",
    "while shutil functions will permanently delete files and folders."
   ]
  },
  {
   "cell_type": "code",
   "execution_count": null,
   "id": "8692122b",
   "metadata": {},
   "outputs": [],
   "source": [
    "'''Q.4 ZipFile objects have a close() method just like File objects’ close() method. What ZipFile method is\n",
    "equivalent to File objects’ open() method?'''\n",
    "\n",
    "Access a member of the archive as a binary file-like object. name can be either the name of a file within the \n",
    "archive or a ZipInfo object. The mode parameter, if included, must be 'r' (the default) or 'w'. \n",
    "pwd is the password used to decrypt encrypted ZIP files.\n",
    "\n",
    "open() is also a context manager and therefore supports the with statement:"
   ]
  },
  {
   "cell_type": "code",
   "execution_count": 2,
   "id": "2c309a36",
   "metadata": {},
   "outputs": [
    {
     "name": "stdout",
     "output_type": "stream",
     "text": [
      "Looking in F:\\Python Basic Assignments\\Answer\\randomFolder for files with extensions of .php, .py\n"
     ]
    }
   ],
   "source": [
    "'''Q.5 Create a programme that searches a folder tree for files with a certain file extension (such as .pdf\n",
    "or .jpg). Copy these files from whatever location they are in to a new folder.'''\n",
    "\n",
    "import os, shutil\n",
    "\n",
    "def selectiveCopy(folder, extensions, destFolder):\n",
    "    folder = os.path.abspath(folder)\n",
    "    destFolder = os.path.abspath(destFolder)\n",
    "    print('Looking in', folder, 'for files with extensions of', ', '.join(extensions))\n",
    "    for foldername, subfolders, filenames in os.walk(folder):\n",
    "        for filename in filenames:\n",
    "            name, extension = os.path.splitext(filename)\n",
    "            if extension in extensions:\n",
    "                fileAbsPath = foldername + os.path.sep + filename\n",
    "                print('Coping', fileAbsPath, 'to', destFolder)\n",
    "                shutil.copy(fileAbsPath, destFolder)\n",
    "\n",
    "extensions = ['.php', '.py']\n",
    "folder = 'randomFolder'\n",
    "destFolder = 'selectiveFolder'\n",
    "selectiveCopy(folder, extensions, destFolder)\n"
   ]
  }
 ],
 "metadata": {
  "kernelspec": {
   "display_name": "Python 3",
   "language": "python",
   "name": "python3"
  },
  "language_info": {
   "codemirror_mode": {
    "name": "ipython",
    "version": 3
   },
   "file_extension": ".py",
   "mimetype": "text/x-python",
   "name": "python",
   "nbconvert_exporter": "python",
   "pygments_lexer": "ipython3",
   "version": "3.8.8"
  }
 },
 "nbformat": 4,
 "nbformat_minor": 5
}
