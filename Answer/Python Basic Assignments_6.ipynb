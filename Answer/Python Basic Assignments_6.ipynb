{
 "cells": [
  {
   "cell_type": "code",
   "execution_count": null,
   "id": "68e1ee4d",
   "metadata": {},
   "outputs": [],
   "source": [
    "'''Q.1 What are escape characters, and how do you use them?'''\n",
    "\n",
    "In Python strings, the backslash \"\\\" is a special character, also called the \"escape\" character. \n",
    "It is used in representing certain whitespace characters: \"\\t\" is a tab, \"\\n\" is a newline, and \"\\r\" is a carriage return. \n",
    "Conversely, prefixing a special character with \"\\\" turns it into an ordinary character."
   ]
  },
  {
   "cell_type": "code",
   "execution_count": null,
   "id": "7bef060f",
   "metadata": {},
   "outputs": [],
   "source": [
    "'''Q.2 What do the escape characters n and t stand for?'''\n",
    "\n",
    "n = newline and t = tab "
   ]
  },
  {
   "cell_type": "code",
   "execution_count": null,
   "id": "92f6190b",
   "metadata": {},
   "outputs": [],
   "source": [
    "'''Q.3 What is the way to include backslash characters in a string?'''\n",
    "\n",
    "If we want an actual backslash in the string or regex, you have to write two: \\\\ . "
   ]
  },
  {
   "cell_type": "code",
   "execution_count": null,
   "id": "8507d51a",
   "metadata": {},
   "outputs": [],
   "source": [
    "'''Q.4 The string \"Howl's Moving Castle\" is a correct value. Why isn't the single quote character in the\n",
    "word Howl's not escaped a problem?'''\n",
    "\n",
    "The single quote in Howl's is fine because you've used double quotes to mark the beginning and end of the string."
   ]
  },
  {
   "cell_type": "code",
   "execution_count": null,
   "id": "77dbb923",
   "metadata": {},
   "outputs": [],
   "source": [
    "'''Q.5 How do you write a string of newlines if you don't want to use the n character?'''\n",
    "\n",
    "Multiline strings allow you to use newlines in strings without the \\n escape character."
   ]
  },
  {
   "cell_type": "code",
   "execution_count": 5,
   "id": "60bec8f5",
   "metadata": {},
   "outputs": [
    {
     "name": "stdout",
     "output_type": "stream",
     "text": [
      "Hellow, world![1] => e\n",
      "Hellow, world![0:5] => Hello\n",
      "Hellow, world![:5] => Hello\n",
      "Hellow, world![3:] => low, world!\n"
     ]
    }
   ],
   "source": [
    "'''Q.6 What are the values of the given expressions?'''\n",
    "\n",
    "print('Hellow, world![1] =>', 'Hellow, world!'[1])\n",
    "print('Hellow, world![0:5] =>', 'Hellow, world!'[0:5])\n",
    "print('Hellow, world![:5] =>', 'Hellow, world!'[:5])\n",
    "print('Hellow, world![3:] =>', 'Hellow, world!'[3:])"
   ]
  },
  {
   "cell_type": "code",
   "execution_count": 8,
   "id": "7ae742cd",
   "metadata": {},
   "outputs": [
    {
     "name": "stdout",
     "output_type": "stream",
     "text": [
      "Hello.upper() => HELLO\n",
      "Hello.upper() => True\n",
      "Hello.upper() => hello\n"
     ]
    }
   ],
   "source": [
    "'''Q.7 What are the values of the following expressions?'''\n",
    "\n",
    "print('Hello.upper() =>', 'Hello'.upper())\n",
    "print('Hello.upper() =>', 'Hello'.upper().isupper())\n",
    "print('Hello.upper() =>', 'Hello'.upper().lower())"
   ]
  },
  {
   "cell_type": "code",
   "execution_count": 11,
   "id": "cadeb22f",
   "metadata": {},
   "outputs": [
    {
     "name": "stdout",
     "output_type": "stream",
     "text": [
      "['Remember,', 'remember,', 'the', 'fifth', 'of', 'July.']\n",
      "There-can-only-one.\n"
     ]
    }
   ],
   "source": [
    "'''Q.8 What are the values of the following expressions?'''\n",
    "\n",
    "print('Remember, remember, the fifth of July.'.split())\n",
    "print('-'.join('There can only one.'.split()))"
   ]
  },
  {
   "cell_type": "code",
   "execution_count": 20,
   "id": "083f8d3b",
   "metadata": {},
   "outputs": [
    {
     "name": "stdout",
     "output_type": "stream",
     "text": [
      "rjust(15) =>         ineuron\n",
      "ljust(15) => ineuron        \n",
      "center(15) =>     ineuron    \n"
     ]
    }
   ],
   "source": [
    "'''Q.9 What are the methods for right-justifying, left-justifying, and centering a string?\n",
    "The rjust(), ljust(), and center() string methods, respectively'''\n",
    "\n",
    "str1 = 'ineuron'\n",
    "print('rjust(15) =>', str1.rjust(15))\n",
    "print('ljust(15) =>', str1.ljust(15))\n",
    "print('center(15) =>', str1.center(15))"
   ]
  },
  {
   "cell_type": "code",
   "execution_count": 32,
   "id": "c4ab0035",
   "metadata": {},
   "outputs": [
    {
     "name": "stdout",
     "output_type": "stream",
     "text": [
      "   useless    =>    useless\n",
      "   useless    => useless   \n"
     ]
    }
   ],
   "source": [
    "'''Q.10 What is the best way to remove whitespace characters from the start or end?\n",
    "The lstrip() and rstrip() methods remove whitespace from the left and right ends of a string, respectively.'''\n",
    "\n",
    "str2 = '   useless   '\n",
    "\n",
    "print(str2,'=>', str2.rstrip())\n",
    "print(str2,'=>', str2.lstrip())"
   ]
  }
 ],
 "metadata": {
  "kernelspec": {
   "display_name": "Python 3",
   "language": "python",
   "name": "python3"
  },
  "language_info": {
   "codemirror_mode": {
    "name": "ipython",
    "version": 3
   },
   "file_extension": ".py",
   "mimetype": "text/x-python",
   "name": "python",
   "nbconvert_exporter": "python",
   "pygments_lexer": "ipython3",
   "version": "3.8.8"
  }
 },
 "nbformat": 4,
 "nbformat_minor": 5
}
