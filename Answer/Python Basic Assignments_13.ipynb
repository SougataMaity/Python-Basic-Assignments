{
 "cells": [
  {
   "cell_type": "code",
   "execution_count": null,
   "id": "55a6c713",
   "metadata": {},
   "outputs": [],
   "source": [
    "'''Q.1 What advantages do Excel spreadsheets have over CSV spreadsheets?'''\n",
    "\n",
    "CSV refers to Comma-Separated Values. It holds plain text as a series of values (cells) separated by commas (, ) in a series of lines (rows)\n",
    "Excel is used to displays the data in horizontal and vertical rows. The data are usually stored in the cells.\n",
    "\n",
    "Excel is easier for the end user to read large files but CSV not easier for the end user to read large files.\n",
    "Excel It also provides the user option for external linking of data from other sources and also the user can do custom add-ins.\n",
    "But No such feature is available in CSV format when it is compared with Excel."
   ]
  },
  {
   "cell_type": "code",
   "execution_count": null,
   "id": "06277200",
   "metadata": {},
   "outputs": [],
   "source": [
    "'''Q.2 What do you pass to csv.reader() and csv.writer() to create reader and writer objects?'''\n",
    "\n",
    "csv.reader(csvfile, dialect='excel', **fmtparams)\n",
    "csv.writer(csvfile, dialect='excel', **fmtparams)"
   ]
  },
  {
   "cell_type": "code",
   "execution_count": null,
   "id": "27d33ab9",
   "metadata": {},
   "outputs": [],
   "source": [
    "'''Q.3 What modes do File objects for reader and writer objects need to be opened in?'''\n",
    "\n",
    "'r' : Open a file for reading. (default)\n",
    "'w' : Open a file for writing. Creates a new file if it does not exist or truncates the file if it exists.\n",
    "'x' : Open a file for exclusive creation. If the file already exists, the operation fails."
   ]
  },
  {
   "cell_type": "code",
   "execution_count": 18,
   "id": "46ab1ceb",
   "metadata": {},
   "outputs": [],
   "source": [
    "'''Q.4 What method takes a list argument and writes it to a CSV file?'''\n",
    "\n",
    "The csv. writer writerow method takes an iterable as an argument. Your result set has to be a list (rows) \n",
    "of lists (columns). Write the row parameter to the writers file object, formatted according to the current dialect."
   ]
  },
  {
   "cell_type": "code",
   "execution_count": null,
   "id": "0c6c3547",
   "metadata": {},
   "outputs": [],
   "source": [
    "'''Q.5 What do the keyword arguments delimiter and line terminator do?'''\n",
    "\n",
    "A lineterminator is a string used to terminate lines produced by writer objects. The default value is \\r\\n .\n",
    "delimiter specifies the character used to separate each field. The default is the comma ( ',' ). quotechar specifies\n",
    "the character used to surround fields that contain the delimiter character. The default is a double quote ( ' \" ' )."
   ]
  },
  {
   "cell_type": "code",
   "execution_count": null,
   "id": "cfebb800",
   "metadata": {},
   "outputs": [],
   "source": [
    "'''Q.6 What function takes a string of JSON data and returns a Python data structure?'''\n",
    "\n",
    "json() method string of JSON data and returns of Python string or data."
   ]
  },
  {
   "cell_type": "code",
   "execution_count": null,
   "id": "3b6a600e",
   "metadata": {},
   "outputs": [],
   "source": [
    "'''Q.7 What function takes a Python data structure and returns a string of JSON data?'''\n",
    "\n",
    "loads() method return Python data structure of JSON string or data."
   ]
  }
 ],
 "metadata": {
  "kernelspec": {
   "display_name": "Python 3",
   "language": "python",
   "name": "python3"
  },
  "language_info": {
   "codemirror_mode": {
    "name": "ipython",
    "version": 3
   },
   "file_extension": ".py",
   "mimetype": "text/x-python",
   "name": "python",
   "nbconvert_exporter": "python",
   "pygments_lexer": "ipython3",
   "version": "3.8.8"
  }
 },
 "nbformat": 4,
 "nbformat_minor": 5
}
