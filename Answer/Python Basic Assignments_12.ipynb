{
 "cells": [
  {
   "cell_type": "code",
   "execution_count": null,
   "id": "1a42d524",
   "metadata": {},
   "outputs": [],
   "source": [
    "'''Q.1 In what modes should the PdfFileReader() and PdfFileWriter() File objects will be opened?'''\n",
    "\n",
    "PdfFileReader() needs to be opened in read-binary mode by passing 'rb'\n",
    "PdfFileWriter() needs to be opened in write-binary mode with 'wb'"
   ]
  },
  {
   "cell_type": "code",
   "execution_count": null,
   "id": "f32584ed",
   "metadata": {},
   "outputs": [],
   "source": [
    "'''Q.2 From a PdfFileReader object, how do you get a Page object for page 5?'''\n",
    "\n",
    "To extract text from a page, we need to get a Page object, which represents a single page of a PDF, from a PdfFileReader object. \n",
    "We can get a Page object by calling the getPage() method."
   ]
  },
  {
   "cell_type": "code",
   "execution_count": null,
   "id": "1988d586",
   "metadata": {},
   "outputs": [],
   "source": [
    "'''Q.3 What PdfFileReader variable stores the number of pages in the PDF document?'''\n",
    "\n",
    "The total number of pages in the document is stored in the numPages attribute of a PdfFileReader object"
   ]
  },
  {
   "cell_type": "code",
   "execution_count": null,
   "id": "b2d90968",
   "metadata": {},
   "outputs": [],
   "source": [
    "'''Q.4 If a PdfFileReader object’s PDF is encrypted with the password swordfish, what must you do\n",
    "before you can obtain Page objects from it?'''\n",
    "\n",
    "passing encrypt() string argument. "
   ]
  },
  {
   "cell_type": "code",
   "execution_count": null,
   "id": "ee71ff37",
   "metadata": {},
   "outputs": [],
   "source": [
    "'''Q.5 What methods do you use to rotate a page?'''\n",
    "\n",
    "import PyPDF2\n",
    "\n",
    "    pdf_in = open('original.pdf', 'rb')\n",
    "    pdf_reader = PyPDF2.PdfFileReader(pdf_in)\n",
    "    pdf_writer = PyPDF2.PdfFileWriter()\n",
    "\n",
    "    for pagenum in range(pdf_reader.numPages):\n",
    "        page = pdf_reader.getPage(pagenum)\n",
    "        page.rotateClockwise(180)\n",
    "        pdf_writer.addPage(page)\n",
    "\n",
    "    pdf_out = open('rotated.pdf', 'wb')\n",
    "    pdf_writer.write(pdf_out)\n",
    "    pdf_out.close()\n",
    "    pdf_in.close()"
   ]
  },
  {
   "cell_type": "code",
   "execution_count": null,
   "id": "b57c76d8",
   "metadata": {},
   "outputs": [],
   "source": [
    "'''Q.6 What is the difference between a Run object and a Paragraph object?'''\n",
    "\n",
    "Each Paragraph object also has a runs attribute that is a list of Run objects. \n",
    "Run objects also have a text attribute, containing just the text in that particular run. \n",
    "Let's look at the text attributes in the second Paragraph object, \n",
    "'A plain paragraph with some bold and some italic' ."
   ]
  },
  {
   "cell_type": "code",
   "execution_count": null,
   "id": "823baee6",
   "metadata": {},
   "outputs": [],
   "source": [
    "'''How do you obtain a list of Paragraph objects for a Document object that’s stored in a variable named doc?'''\n",
    "\n",
    "import docx\n",
    "\n",
    "def getText(filename):\n",
    "    doc = docx.Document(filename)\n",
    "    fullText = []\n",
    "    for para in doc.paragraphs:\n",
    "        fullText.append(para.text)\n",
    "    return '\\n'.join(fullText)"
   ]
  },
  {
   "cell_type": "code",
   "execution_count": null,
   "id": "f72e44b5",
   "metadata": {},
   "outputs": [],
   "source": [
    "'''Q.8 What type of object has bold, underline, italic, strike, and outline variables?'''\n",
    "\n",
    "bold : The text appears in bold.\n",
    "underline : The text is underlined.\n",
    "italic : The text appears in italic.\n",
    "strike : The text appears with strikethrough.\n",
    "outline : The text appears outlined rather than solid."
   ]
  },
  {
   "cell_type": "code",
   "execution_count": null,
   "id": "fe17ea69",
   "metadata": {},
   "outputs": [],
   "source": [
    "'''Q.9 What is the difference between False, True, and None for the bold variable?'''\n",
    "\n",
    "True and False are specific bool values. Use default False when we have a bool field and we want the default to be False. \n",
    "We dont use False as a value for a non- bool field. None is used as a generic placeholder when the value will be set later."
   ]
  },
  {
   "cell_type": "code",
   "execution_count": null,
   "id": "2f3d802d",
   "metadata": {},
   "outputs": [],
   "source": [
    "'''Q.10 How do you create a Document object for a new Word document?'''\n",
    "\n",
    "from docx import Document\n",
    "\n",
    "document = Document()\n",
    "document.save('test.docx')"
   ]
  },
  {
   "cell_type": "code",
   "execution_count": null,
   "id": "2da6a501",
   "metadata": {},
   "outputs": [],
   "source": [
    "'''Q.11 How do you add a paragraph with the text 'Hello, there!' to a Document object stored in a\n",
    "variable named doc?'''\n",
    "\n",
    "import docx\n",
    "doc = docx.Document()\n",
    "doc.add_paragraph('Hello, world!')\n",
    "doc.save('helloworld.docx')"
   ]
  },
  {
   "cell_type": "code",
   "execution_count": null,
   "id": "b44a930a",
   "metadata": {},
   "outputs": [],
   "source": [
    "'''Q.12 What integers represent the levels of headings available in Word documents?'''\n",
    "\n",
    "The arguments to add_heading() are a string of the heading text and an integer from 0 to 4. \n",
    "The integer 0 makes the heading the Title style, which is used for the top of the document. \n",
    "Integers 1 to 4 are for various heading levels, with 1 being the main heading and 4 the lowest subheading."
   ]
  }
 ],
 "metadata": {
  "kernelspec": {
   "display_name": "Python 3",
   "language": "python",
   "name": "python3"
  },
  "language_info": {
   "codemirror_mode": {
    "name": "ipython",
    "version": 3
   },
   "file_extension": ".py",
   "mimetype": "text/x-python",
   "name": "python",
   "nbconvert_exporter": "python",
   "pygments_lexer": "ipython3",
   "version": "3.8.8"
  }
 },
 "nbformat": 4,
 "nbformat_minor": 5
}
