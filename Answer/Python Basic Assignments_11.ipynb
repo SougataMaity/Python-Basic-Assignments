{
 "cells": [
  {
   "cell_type": "code",
   "execution_count": 5,
   "id": "f6504b56",
   "metadata": {},
   "outputs": [
    {
     "name": "stdout",
     "output_type": "stream",
     "text": [
      "Enter a number : 1\n",
      "x is a positive number.\n",
      "Enter a number : -1\n"
     ]
    },
    {
     "ename": "AssertionError",
     "evalue": "",
     "output_type": "error",
     "traceback": [
      "\u001b[1;31m---------------------------------------------------------------------------\u001b[0m",
      "\u001b[1;31mAssertionError\u001b[0m                            Traceback (most recent call last)",
      "\u001b[1;32m<ipython-input-5-2ac3ac3ca57e>\u001b[0m in \u001b[0;36m<module>\u001b[1;34m\u001b[0m\n\u001b[0;32m      7\u001b[0m \u001b[1;33m\u001b[0m\u001b[0m\n\u001b[0;32m      8\u001b[0m \u001b[0mx\u001b[0m \u001b[1;33m=\u001b[0m \u001b[0mint\u001b[0m\u001b[1;33m(\u001b[0m\u001b[0minput\u001b[0m\u001b[1;33m(\u001b[0m\u001b[1;34m'Enter a number : '\u001b[0m\u001b[1;33m)\u001b[0m\u001b[1;33m)\u001b[0m\u001b[1;33m\u001b[0m\u001b[1;33m\u001b[0m\u001b[0m\n\u001b[1;32m----> 9\u001b[1;33m \u001b[1;32massert\u001b[0m \u001b[0mx\u001b[0m \u001b[1;33m>\u001b[0m \u001b[1;36m0\u001b[0m\u001b[1;33m\u001b[0m\u001b[1;33m\u001b[0m\u001b[0m\n\u001b[0m\u001b[0;32m     10\u001b[0m \u001b[0mprint\u001b[0m\u001b[1;33m(\u001b[0m\u001b[1;34m'x is a positive number.'\u001b[0m\u001b[1;33m)\u001b[0m\u001b[1;33m\u001b[0m\u001b[1;33m\u001b[0m\u001b[0m\n",
      "\u001b[1;31mAssertionError\u001b[0m: "
     ]
    }
   ],
   "source": [
    "'''Q.1 Create an assert statement that throws an AssertionError if the variable spam is a negative\n",
    "integer.'''\n",
    "\n",
    "x = int(input('Enter a number : '))\n",
    "assert x > 0\n",
    "print('x is a positive number.')\n",
    "\n",
    "x = int(input('Enter a number : '))\n",
    "assert x > 0\n",
    "print('x is a positive number.')"
   ]
  },
  {
   "cell_type": "code",
   "execution_count": 8,
   "id": "a5040f75",
   "metadata": {},
   "outputs": [],
   "source": [
    "'''Q.2 Write an assert statement that triggers an AssertionError if the variables eggs and bacon contain\n",
    "strings that are the same as each other, even if their cases are different (that is, 'hello' and 'hello' are\n",
    "considered the same, and 'goodbye' and 'GOODbye' are also considered the same).'''\n",
    "\n",
    "eggs = 'hello'\n",
    "bacon = 'good bye'\n",
    "\n",
    "# Raise an AssertError if they are not different.\n",
    "assert eggs.lower() != bacon.lower()\n",
    "#'eggs/bacon should not be the same!'"
   ]
  },
  {
   "cell_type": "code",
   "execution_count": null,
   "id": "ed99667a",
   "metadata": {},
   "outputs": [],
   "source": [
    "'''Q.3 Create an assert statement that throws an AssertionError every time.'''\n",
    "assert(False)"
   ]
  },
  {
   "cell_type": "code",
   "execution_count": null,
   "id": "44acb886",
   "metadata": {},
   "outputs": [],
   "source": [
    "'''Q.4 What are the two lines that must be present in your software in order to call logging.debug()?'''\n",
    "\n",
    "import logging \n",
    "logging.basicConfig(level=logging.DEBUG, format='%(asctimes)s - %(levelname)s - %(message)s')"
   ]
  },
  {
   "cell_type": "code",
   "execution_count": 2,
   "id": "37cb4d9b",
   "metadata": {},
   "outputs": [],
   "source": [
    "'''Q.5 What are the two lines that your program must have in order to have logging.debug() send a logging message to a ﬁle named programLog.txt?'''\n",
    "\n",
    "import logging \n",
    "logging.basicConfig(filename='programLog.txt', level=logging.DEBUG, format='%(asctimes)s - %(levelname)s - %(message)s')"
   ]
  },
  {
   "cell_type": "code",
   "execution_count": null,
   "id": "c5bfe2dc",
   "metadata": {},
   "outputs": [],
   "source": [
    "'''Q.6 What are the five levels of logging?'''\n",
    "\n",
    "DEBUG, INFO, WARNING, ERROR AND CRITICAL"
   ]
  },
  {
   "cell_type": "code",
   "execution_count": null,
   "id": "ea110626",
   "metadata": {},
   "outputs": [],
   "source": [
    "'''Q.7 What line of code would you add to your software to disable all logging messages?'''\n",
    "\n",
    "import logging\n",
    "logging.disable(logging.critical)"
   ]
  },
  {
   "cell_type": "code",
   "execution_count": null,
   "id": "14d5b89c",
   "metadata": {},
   "outputs": [],
   "source": [
    "'''Q.8 Why is using logging messages better than using print() to display the same message?'''\n",
    "\n",
    "logging massage provide timestamp\n",
    "As per condition logging massage disable without removing the logging function cell."
   ]
  },
  {
   "cell_type": "code",
   "execution_count": null,
   "id": "3f0bded4",
   "metadata": {},
   "outputs": [],
   "source": [
    "'''Q.9 What are the differences between the Step Over, Step In, and Step Out buttons in the debugger?'''\n",
    "\n",
    "step Over - An action to take in the debugger take will step over a give line. If the line contains a function\n",
    "if line contains a function the function will be exicuted and the result returnd without debugging each line\n",
    "\n",
    "Step In -The line does not contain a function it behaves the same as 'step over' but if it does the debugger will enter the called function and continue line-by-line debugging there.\n",
    "\n",
    "Step Out - An action to take in the debugger that returns to the line where the current function was called."
   ]
  },
  {
   "cell_type": "code",
   "execution_count": null,
   "id": "1ae8523c",
   "metadata": {},
   "outputs": [],
   "source": [
    "'''Q.10 After you click Continue, when will the debugger stop'''\n",
    "\n",
    "click Go, the debugger will stop when it has reached the end of the program or a line with a breakpoint."
   ]
  },
  {
   "cell_type": "code",
   "execution_count": null,
   "id": "83f8fd79",
   "metadata": {},
   "outputs": [],
   "source": [
    "'''Q.11 What is a breakpoint? '''\n",
    "\n",
    "Breakpoint is a setting on a line of code that causes the debugger to pause when the program execution reaches the line"
   ]
  }
 ],
 "metadata": {
  "kernelspec": {
   "display_name": "Python 3",
   "language": "python",
   "name": "python3"
  },
  "language_info": {
   "codemirror_mode": {
    "name": "ipython",
    "version": 3
   },
   "file_extension": ".py",
   "mimetype": "text/x-python",
   "name": "python",
   "nbconvert_exporter": "python",
   "pygments_lexer": "ipython3",
   "version": "3.8.8"
  }
 },
 "nbformat": 4,
 "nbformat_minor": 5
}
