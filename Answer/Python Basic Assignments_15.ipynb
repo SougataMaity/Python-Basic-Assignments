{
 "cells": [
  {
   "cell_type": "code",
   "execution_count": 3,
   "id": "9aa89884",
   "metadata": {},
   "outputs": [
    {
     "name": "stdout",
     "output_type": "stream",
     "text": [
      "seconds are in a hour : 3600\n"
     ]
    }
   ],
   "source": [
    "'''Q.1 1.How many seconds are in an hour? Use the interactive interpreter as a calculator and multiply the\n",
    "number of seconds in a minute (60) by the number of minutes in an hour (also 60).'''\n",
    "\n",
    "sec_in_min = 60\n",
    "min_in_hour = 60\n",
    "\n",
    "sec_in_hour = sec_in_min*min_in_hour\n",
    "print('seconds are in a hour :', sec_in_hour)"
   ]
  },
  {
   "cell_type": "code",
   "execution_count": 4,
   "id": "a9ef0bc5",
   "metadata": {},
   "outputs": [
    {
     "name": "stdout",
     "output_type": "stream",
     "text": [
      "seconds per hour : 3600\n"
     ]
    }
   ],
   "source": [
    "'''Q.2 Assign the result from the previous task (seconds in an hour) to a variable called\n",
    "seconds_per_hour.'''\n",
    "\n",
    "sec_per_hour = sec_in_hour\n",
    "print('seconds per hour :', sec_per_hour)"
   ]
  },
  {
   "cell_type": "code",
   "execution_count": 5,
   "id": "c56873fc",
   "metadata": {},
   "outputs": [
    {
     "name": "stdout",
     "output_type": "stream",
     "text": [
      "Seconds in a day : 86400\n"
     ]
    }
   ],
   "source": [
    "'''Q.3 How many seconds do you think there are in a day? Make use of the variables seconds per hour\n",
    "and minutes per hour.'''\n",
    "\n",
    "hour_in_day = 24\n",
    "sec_in_day = hour_in_day * sec_per_hour\n",
    "print('Seconds in a day :', sec_in_day)"
   ]
  },
  {
   "cell_type": "code",
   "execution_count": 6,
   "id": "422c3f8f",
   "metadata": {},
   "outputs": [
    {
     "name": "stdout",
     "output_type": "stream",
     "text": [
      "Seconds per day : 86400\n"
     ]
    }
   ],
   "source": [
    "'''Q.4 Calculate seconds per day again, but this time save the result in a variable called seconds_per_day'''\n",
    "\n",
    "sec_per_day = sec_in_day\n",
    "print('Seconds per day :', sec_in_day)"
   ]
  },
  {
   "cell_type": "code",
   "execution_count": 8,
   "id": "4e3ce45e",
   "metadata": {},
   "outputs": [
    {
     "name": "stdout",
     "output_type": "stream",
     "text": [
      "day_in_hour : 24.0\n"
     ]
    }
   ],
   "source": [
    "'''Q.5 Divide seconds_per_day by seconds_per_hour. Use floating-point (/) division.'''\n",
    "\n",
    "day_in_hour = sec_per_day/sec_per_hour\n",
    "print('day_in_hour :',day_in_hour)"
   ]
  },
  {
   "cell_type": "code",
   "execution_count": 9,
   "id": "dedd9f20",
   "metadata": {},
   "outputs": [
    {
     "data": {
      "text/plain": [
       "24"
      ]
     },
     "execution_count": 9,
     "metadata": {},
     "output_type": "execute_result"
    }
   ],
   "source": [
    "'''Q.7 Divide seconds_per_day by seconds_per_hour, using integer (//) division. Did this number agree\n",
    "with the floating-point value from the previous question, aside from the final .0?'''\n",
    "\n",
    "sec_per_day//sec_per_hour"
   ]
  },
  {
   "cell_type": "code",
   "execution_count": 32,
   "id": "f5ec16d7",
   "metadata": {},
   "outputs": [
    {
     "data": {
      "text/plain": [
       "<generator object genPrimes at 0x000001AB93111270>"
      ]
     },
     "execution_count": 32,
     "metadata": {},
     "output_type": "execute_result"
    }
   ],
   "source": [
    "'''Q.8 Write a generator, genPrimes, that returns the sequence of prime numbers on successive calls to\n",
    "its next() method: 2, 3, 5, 7, 11, ...'''\n",
    "\n",
    "def genPrimes():\n",
    "    primes = []\n",
    "    n = 2\n",
    "    last = n\n",
    "\n",
    "    while True:\n",
    "        for i in primes:\n",
    "            if n % i == 0:\n",
    "                n += 1\n",
    "                break\n",
    "\n",
    "        else:\n",
    "            primes.append(n)\n",
    "            last = n\n",
    "            n += 1\n",
    "            yield last\n",
    "            \n",
    "p = genPrimes()\n",
    "p"
   ]
  },
  {
   "cell_type": "code",
   "execution_count": 31,
   "id": "a196093c",
   "metadata": {},
   "outputs": [
    {
     "data": {
      "text/plain": [
       "5"
      ]
     },
     "execution_count": 31,
     "metadata": {},
     "output_type": "execute_result"
    }
   ],
   "source": [
    "next(p)"
   ]
  }
 ],
 "metadata": {
  "kernelspec": {
   "display_name": "Python 3",
   "language": "python",
   "name": "python3"
  },
  "language_info": {
   "codemirror_mode": {
    "name": "ipython",
    "version": 3
   },
   "file_extension": ".py",
   "mimetype": "text/x-python",
   "name": "python",
   "nbconvert_exporter": "python",
   "pygments_lexer": "ipython3",
   "version": "3.8.8"
  }
 },
 "nbformat": 4,
 "nbformat_minor": 5
}
