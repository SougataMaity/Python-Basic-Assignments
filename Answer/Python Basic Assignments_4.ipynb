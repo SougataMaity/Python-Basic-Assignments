{
 "cells": [
  {
   "cell_type": "code",
   "execution_count": null,
   "id": "6099302e",
   "metadata": {},
   "outputs": [],
   "source": [
    "'''Q.1 What exactly is []?'''\n",
    "\n",
    "In python this is [] empty list."
   ]
  },
  {
   "cell_type": "code",
   "execution_count": 2,
   "id": "4a6c2d0f",
   "metadata": {},
   "outputs": [
    {
     "data": {
      "text/plain": [
       "[2, 4, 'Hello', 6, 8, 10]"
      ]
     },
     "execution_count": 2,
     "metadata": {},
     "output_type": "execute_result"
    }
   ],
   "source": [
    "'''Q.2 In a list of values stored in a variable called spam, how would you assign the value &#39;hello&#39; as the\n",
    "third value? (Assume [2, 4, 6, 8, 10] are in spam.)'''\n",
    "\n",
    "We use inbuild python command insert and this insert command takes index and value.\n",
    "spam = [2,4,6,8,10]\n",
    "spam.insert(2, 'Hello')\n",
    "spam"
   ]
  },
  {
   "cell_type": "code",
   "execution_count": 7,
   "id": "77d5f2b1",
   "metadata": {},
   "outputs": [
    {
     "name": "stdout",
     "output_type": "stream",
     "text": [
      "index : 3\n",
      "Result : d\n"
     ]
    }
   ],
   "source": [
    "'''Let's pretend the spam includes the list ['a','b','c','d'] for the next three queries.\n",
    "\n",
    "Q.3 What is the value of spam[int(int('3' * 2) / 11)]?\n",
    "\n",
    "spam is a list and spam[i]; i contain index of this list. First calculate int(int('3' * 2) / 11)\n",
    "result gives index of spam. '''\n",
    "\n",
    "index_ = int(int('3' * 2) / 11)\n",
    "print('index :',index_)\n",
    "spam = ['a','b','c','d']\n",
    "print('Result :',spam[index_])"
   ]
  },
  {
   "cell_type": "code",
   "execution_count": 9,
   "id": "e3b0d96c",
   "metadata": {},
   "outputs": [
    {
     "data": {
      "text/plain": [
       "'d'"
      ]
     },
     "execution_count": 9,
     "metadata": {},
     "output_type": "execute_result"
    }
   ],
   "source": [
    "'''Q.4 What is the value of spam[-1]?\n",
    "Here index -1 so expected result spam right side first value.'''\n",
    "spam = ['a','b','c','d']\n",
    "spam[-1]"
   ]
  },
  {
   "cell_type": "code",
   "execution_count": 10,
   "id": "fc4e818d",
   "metadata": {},
   "outputs": [
    {
     "data": {
      "text/plain": [
       "['a', 'b']"
      ]
     },
     "execution_count": 10,
     "metadata": {},
     "output_type": "execute_result"
    }
   ],
   "source": [
    "'''Q.5 What is the value of spam[:2]?\n",
    "Atfirst : then positive index (2) so it gives first two values in spam'''\n",
    "spam = ['a','b','c','d']\n",
    "spam[:2]"
   ]
  },
  {
   "cell_type": "code",
   "execution_count": 11,
   "id": "a0115dc2",
   "metadata": {},
   "outputs": [
    {
     "data": {
      "text/plain": [
       "1"
      ]
     },
     "execution_count": 11,
     "metadata": {},
     "output_type": "execute_result"
    }
   ],
   "source": [
    "'''Lets pretend bacon has the list [3.14,'cat',11,'cat',True] for the next three questions.\n",
    "Q.6 What is the value of bacon.index('cat')?\n",
    "In a list value are repeted then index function take first index of this value here result 1  '''\n",
    "\n",
    "bacon = [3.14,'cat',11,'cat',True]\n",
    "bacon.index('cat')"
   ]
  },
  {
   "cell_type": "code",
   "execution_count": 12,
   "id": "f7ef46e1",
   "metadata": {},
   "outputs": [
    {
     "data": {
      "text/plain": [
       "[3.14, 'cat', 11, 'cat', True, 99]"
      ]
     },
     "execution_count": 12,
     "metadata": {},
     "output_type": "execute_result"
    }
   ],
   "source": [
    "'''Q.7 How does bacon.append(99) change the look of the list value in bacon?\n",
    "Append function insert a value in a list of last index'''\n",
    "\n",
    "bacon = [3.14,'cat',11,'cat',True]\n",
    "bacon.append(99)\n",
    "bacon"
   ]
  },
  {
   "cell_type": "code",
   "execution_count": 13,
   "id": "92b233ec",
   "metadata": {},
   "outputs": [
    {
     "data": {
      "text/plain": [
       "[3.14, 11, 'cat', True]"
      ]
     },
     "execution_count": 13,
     "metadata": {},
     "output_type": "execute_result"
    }
   ],
   "source": [
    "'''Q.8 How does bacon.remove('cat') change the look of the list in bacon?\n",
    "It gives a list and first 'cat' value remove from this bacon'''\n",
    "\n",
    "bacon = [3.14,'cat',11,'cat',True]\n",
    "bacon.remove('cat')\n",
    "bacon"
   ]
  },
  {
   "cell_type": "code",
   "execution_count": 19,
   "id": "f6a06216",
   "metadata": {},
   "outputs": [
    {
     "name": "stdout",
     "output_type": "stream",
     "text": [
      "Connection operator\n",
      "list1 : ['python', 'R', 'C', 'Java', 'HTML', 'CSS']\n",
      "list2 : ['Data Science', 'Big Data', 'Web Development']\n",
      "list3 : ['python', 'R', 'C', 'Java', 'HTML', 'CSS', 'Data Science', 'Big Data', 'Web Development']\n",
      "\n",
      "Replication operator\n",
      "list4 : ['python', 'R', 'C', 'Java', 'HTML', 'CSS', 'python', 'R', 'C', 'Java', 'HTML', 'CSS']\n"
     ]
    }
   ],
   "source": [
    "'''Q.9 What are the list concatenation and list replication operators?\n",
    "\n",
    "Connection operator '+' it easily add the whole of one list behind the other list and hence perform the concatenation. \n",
    "Replication operator '*' it easily replicate the value as many as we want'''\n",
    "\n",
    "list1 = ['python', 'R', 'C', 'Java', 'HTML', 'CSS']\n",
    "list2 = ['Data Science', 'Big Data', 'Web Development']\n",
    "list3 = list1 + list2\n",
    "print(f'Connection operator\\nlist1 : {list1}\\nlist2 : {list2}\\nlist3 : {list3}\\n')\n",
    "\n",
    "list4 = list1*2\n",
    "print(f'Replication operator\\nlist4 : {list4}')"
   ]
  },
  {
   "cell_type": "code",
   "execution_count": null,
   "id": "834b4b97",
   "metadata": {},
   "outputs": [],
   "source": [
    "'''Q.10 What is difference between the list methods append() and insert()?'''\n",
    "\n",
    "The only difference between append() and insert() is that insert function allows us to add a specific element at\n",
    "a specified index of the list unlike append() where we can add the element only at end of the list."
   ]
  },
  {
   "cell_type": "code",
   "execution_count": null,
   "id": "4ee462e6",
   "metadata": {},
   "outputs": [],
   "source": [
    "'''Q.11 What are the two methods for removing items from a list?'''\n",
    "\n",
    "The methods are remove(), pop() and clear(). \n",
    "remove() it helps to remove the very first given element matching from the list.\n",
    "The pop() method removes an element from the list based on the index given. \n",
    "The clear() method will remove all the elements present in the list."
   ]
  },
  {
   "cell_type": "code",
   "execution_count": null,
   "id": "fe5beca0",
   "metadata": {},
   "outputs": [],
   "source": [
    "'''Q.12 Describe how list values and string values are identical.'''\n",
    "\n",
    "The similarity between Lists and Strings in Python is that both are sequences"
   ]
  },
  {
   "cell_type": "code",
   "execution_count": null,
   "id": "9faa6fa3",
   "metadata": {},
   "outputs": [],
   "source": [
    "'''Q.13 What's the difference between tuples and lists?'''\n",
    "\n",
    "The key difference between the tuples and lists is that while the tuples are immutable objects the lists are mutable.\n",
    "This means that tuples cannot be changed while the lists can be modified. "
   ]
  },
  {
   "cell_type": "code",
   "execution_count": 32,
   "id": "52619c6f",
   "metadata": {},
   "outputs": [
    {
     "data": {
      "text/plain": [
       "42"
      ]
     },
     "execution_count": 32,
     "metadata": {},
     "output_type": "execute_result"
    }
   ],
   "source": [
    "'''Q.14 How do you type a tuple value that only contains the integer 42?'''\n",
    "\n",
    "tuple1 = (42)\n",
    "tuple1"
   ]
  },
  {
   "cell_type": "code",
   "execution_count": 27,
   "id": "56acb081",
   "metadata": {},
   "outputs": [
    {
     "name": "stdout",
     "output_type": "stream",
     "text": [
      "List to tuple\n",
      "list1 : [1, 2, 3, 4]\n",
      "result : (1, 2, 3, 4)\n",
      "\n",
      "Tuple to list\n",
      "tuple1 : (10, 11, 12, 13)\n",
      "result : [10, 11, 12, 13]\n"
     ]
    }
   ],
   "source": [
    "'''Q.15 How do you get a list value's tuple form? How do you get a tuple value's list form?'''\n",
    "\n",
    "list1 = [1,2,3,4]\n",
    "print(f'List to tuple\\nlist1 : {list1}\\nresult : {tuple(list1)}\\n')\n",
    "\n",
    "tuple1 = (10,11,12,13)\n",
    "print(f'Tuple to list\\ntuple1 : {tuple1}\\nresult : {list(tuple1)}')\n"
   ]
  },
  {
   "cell_type": "code",
   "execution_count": null,
   "id": "bbc267ee",
   "metadata": {},
   "outputs": [],
   "source": [
    "'''Q.16 Variables that 'contain' list values are not necessarily lists themselves. Instead, what do they contain?'''\n",
    "\n",
    "Variables will contain references to list values rather than list values themselves. But for strings and integer values,\n",
    "variables simply contain the string or integer value."
   ]
  },
  {
   "cell_type": "code",
   "execution_count": 31,
   "id": "eb77ed7d",
   "metadata": {},
   "outputs": [
    {
     "name": "stdout",
     "output_type": "stream",
     "text": [
      "Shallow Copy\n",
      "Old list :[['ineuron', 1, 1], [2, 2, 2], [3, 3, 3]]\n",
      "New list :[['ineuron', 1, 1], [2, 2, 2], [3, 3, 3]]\n",
      "\n",
      "Deep Copy\n",
      "Old list :[['ineuron', 1, 1], [2, 2, 2], [3, 3, 3]]\n",
      "New list :[[1, 1, 1], [2, 2, 2], [3, 3, 3]]\n"
     ]
    }
   ],
   "source": [
    "'''Q.17 How do you distinguish between copy.copy() and copy.deepcopy()?\n",
    "\n",
    "The difference between shallow and deep copying is only relevant for compound objects (objects that contain other objects, \n",
    "like lists or class instances):\n",
    "\n",
    "A shallow copy constructs a new compound object and then (to the extent possible) inserts references into \n",
    "it to the objects found in the original.\n",
    "\n",
    "A deep copy constructs a new compound object and then, recursively, inserts copies into it of the objects \n",
    "found in the original.'''\n",
    "\n",
    "import copy\n",
    "\n",
    "old_list = [[1, 1, 1], [2, 2, 2], [3, 3, 3]]\n",
    "\n",
    "new_list = copy.copy(old_list)\n",
    "old_list[0][0] = 'ineuron'\n",
    "print(f'Shallow Copy\\nOld list :{old_list}\\nNew list :{new_list}\\n')\n",
    "\n",
    "new_list = copy.deepcopy(old_list)\n",
    "old_list[0][0] = 'ineuron'\n",
    "print(f'Deep Copy\\nOld list :{old_list}\\nNew list :{new_list}')"
   ]
  }
 ],
 "metadata": {
  "kernelspec": {
   "display_name": "Python 3",
   "language": "python",
   "name": "python3"
  },
  "language_info": {
   "codemirror_mode": {
    "name": "ipython",
    "version": 3
   },
   "file_extension": ".py",
   "mimetype": "text/x-python",
   "name": "python",
   "nbconvert_exporter": "python",
   "pygments_lexer": "ipython3",
   "version": "3.8.8"
  }
 },
 "nbformat": 4,
 "nbformat_minor": 5
}
