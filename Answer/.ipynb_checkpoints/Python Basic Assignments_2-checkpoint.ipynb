{
 "cells": [
  {
   "cell_type": "code",
   "execution_count": 5,
   "id": "092e44b0",
   "metadata": {},
   "outputs": [
    {
     "name": "stdout",
     "output_type": "stream",
     "text": [
      "True\n",
      "False\n"
     ]
    }
   ],
   "source": [
    "'''Q.1 What are the two values of the Boolean data type? How do you write them?'''\n",
    "\n",
    "# There are two Boolean values True and False. \n",
    "print(4 > 3)\n",
    "print(3 == 4)"
   ]
  },
  {
   "cell_type": "code",
   "execution_count": null,
   "id": "d7a05d2a",
   "metadata": {},
   "outputs": [],
   "source": [
    "'''Q.2 What are the three different types of Boolean operators?'''\n",
    "\n",
    "Three difference types of Boolean operator is AND, OR, NOT"
   ]
  },
  {
   "cell_type": "code",
   "execution_count": 8,
   "id": "580bcfc1",
   "metadata": {},
   "outputs": [
    {
     "name": "stdout",
     "output_type": "stream",
     "text": [
      "and operator : [True, False, False, False]\n",
      "or operator : [True, True, True, False]\n",
      "not operator : [False, True]\n"
     ]
    }
   ],
   "source": [
    "'''Q.3 Make a list of each Boolean operator's truth tables (i.e. every possible combination of Boolean\n",
    "values for the operator and what it evaluate ).'''\n",
    "\n",
    "And = [True and True, True and False,  False and True, False and False]\n",
    "print(f'and operator : {And}')\n",
    "\n",
    "Or = [True or True, True or False,  False or True, False or False]\n",
    "print(f'or operator : {Or}')\n",
    "\n",
    "Not = [not True, not False]\n",
    "print(f'not operator : {Not}')\n"
   ]
  },
  {
   "cell_type": "code",
   "execution_count": 8,
   "id": "b15feeb0",
   "metadata": {},
   "outputs": [
    {
     "name": "stdout",
     "output_type": "stream",
     "text": [
      "False\n",
      "False\n",
      "True\n",
      "False\n",
      "False\n",
      "True\n"
     ]
    }
   ],
   "source": [
    "'''Q.4 What are the values of the following expressions?'''\n",
    "\n",
    "print((5>4) and (3==5))\n",
    "print(not(5>4))\n",
    "print((5>4) or (3==5))\n",
    "print(not((5>4) or (3==5)))\n",
    "print((True and True) and (True == False))\n",
    "print((not False) or (not True))"
   ]
  },
  {
   "cell_type": "code",
   "execution_count": null,
   "id": "90c5f19a",
   "metadata": {},
   "outputs": [],
   "source": [
    "'''Q.5 What are the six comparison operators?'''\n",
    "\n",
    "Six comparison operators\n",
    "1. Equal to\n",
    "2. Not equal to\n",
    "3. Greater than\n",
    "4. Greater than or equal to\n",
    "5. Less than\n",
    "6. Less than or equal to"
   ]
  },
  {
   "cell_type": "code",
   "execution_count": null,
   "id": "52e1a22b",
   "metadata": {},
   "outputs": [],
   "source": [
    "'''Q.6 How do you tell the difference between the equal to and assignment operators?Describe a condition and \n",
    "when you would use one.'''\n",
    "\n",
    "Equal to operator : ==\n",
    "Assignment operator : =\n",
    "\n",
    "Assignment operator (=) used for assigning the value to a variable\n",
    "Equal to operator (==) used comparing two values if the values are same then it return 1 otherwise it return 0"
   ]
  },
  {
   "cell_type": "code",
   "execution_count": 9,
   "id": "14aba95a",
   "metadata": {},
   "outputs": [
    {
     "name": "stdout",
     "output_type": "stream",
     "text": [
      "ham\n",
      "spam\n",
      "spam\n"
     ]
    }
   ],
   "source": [
    "'''Q.7 Identify the three blocks in this code:'''\n",
    "\n",
    "spam = 0\n",
    "if spam == 10:\n",
    "    print('eggs')\n",
    "\n",
    "if spam > 5:\n",
    "    print('bacon')\n",
    "    \n",
    "else:\n",
    "    print('ham')\n",
    "    print('spam')\n",
    "    print('spam')"
   ]
  },
  {
   "cell_type": "code",
   "execution_count": 14,
   "id": "546c3a3a",
   "metadata": {},
   "outputs": [
    {
     "name": "stdout",
     "output_type": "stream",
     "text": [
      "Please enter a value in spam : 1\n",
      "Hello\n"
     ]
    }
   ],
   "source": [
    "'''Q.8 Write code that prints Hello if 1 is stored in spam, prints Howdy if 2 is stored in spam, and prints\n",
    "Greetings! if anything else is stored in spam.'''\n",
    "\n",
    "spam = int(input('Please enter a value in spam : '))\n",
    "\n",
    "if spam == 1:\n",
    "    print('Hello')\n",
    "elif spam == 2:\n",
    "    print('Howdy')\n",
    "else:\n",
    "    print('Greetings!')"
   ]
  },
  {
   "cell_type": "code",
   "execution_count": null,
   "id": "a21328d2",
   "metadata": {},
   "outputs": [],
   "source": [
    "'''Q.9 If your programme is stuck in an endless loop, what keys you’ll press?'''\n",
    "\n",
    "If our programme is stuck in an endless loop then press Ctrl + C"
   ]
  },
  {
   "cell_type": "code",
   "execution_count": null,
   "id": "bc65a3fa",
   "metadata": {},
   "outputs": [],
   "source": [
    "'''Q.10 How can you tell the difference between break and continue?'''\n",
    "\n",
    "Difference between break and continue\n",
    "The Break statement is used to exit from the loop constructs.\n",
    "Continue statement mainly skip the rest of loop wherever continue is declared and execute the next iteration."
   ]
  },
  {
   "cell_type": "code",
   "execution_count": 1,
   "id": "73f5870d",
   "metadata": {},
   "outputs": [
    {
     "name": "stdout",
     "output_type": "stream",
     "text": [
      "0 1 2 3 4 5 6 7 8 9 \n",
      "\n",
      "0 1 2 3 4 5 6 7 8 9 \n",
      "\n",
      "0 1 2 3 4 5 6 7 8 9 "
     ]
    }
   ],
   "source": [
    "'''Q.11 In a for loop, what is the difference between range(10), range(0, 10), and range(0, 10, 1)?'''\n",
    "\n",
    "for i in range(10):\n",
    "    print(i, end = ' ')\n",
    "\n",
    "print('\\n')\n",
    "\n",
    "for i in range(0,10):\n",
    "    print(i, end = ' ')\n",
    "\n",
    "print('\\n')\n",
    "\n",
    "for i in range(0,10,1):\n",
    "    print(i, end = ' ')\n",
    "    \n",
    "# Output of this 3 loops are same"
   ]
  },
  {
   "cell_type": "code",
   "execution_count": 5,
   "id": "4f5ddee5",
   "metadata": {},
   "outputs": [
    {
     "name": "stdout",
     "output_type": "stream",
     "text": [
      "1 2 3 4 5 6 7 8 9 10 \n",
      "\n",
      "1 2 3 4 5 6 7 8 9 10 "
     ]
    }
   ],
   "source": [
    "'''Q.12 Write a short program that prints the numbers 1 to 10 using a for loop. Then write an equivalent\n",
    "program that prints the numbers 1 to 10 using a while loop.'''\n",
    "\n",
    "# Print 1 to 10 using for loop\n",
    "\n",
    "for i in range(1,11,1):\n",
    "    print(i, end = ' ')\n",
    "    \n",
    "# Print 1 to 10 using while loop\n",
    "\n",
    "print('\\n')\n",
    "i = 1\n",
    "while i <= 10:\n",
    "    print(i, end = ' ')\n",
    "    i = i +1"
   ]
  },
  {
   "cell_type": "code",
   "execution_count": null,
   "id": "9a8d3258",
   "metadata": {},
   "outputs": [],
   "source": [
    "'''Q.13 If you had a function named bacon() inside a module named spam, how would you call it after importing spam?'''\n",
    "\n",
    "def bacon():\n",
    "    pass\n",
    "\n",
    "spam.bacon()"
   ]
  }
 ],
 "metadata": {
  "kernelspec": {
   "display_name": "Python 3",
   "language": "python",
   "name": "python3"
  },
  "language_info": {
   "codemirror_mode": {
    "name": "ipython",
    "version": 3
   },
   "file_extension": ".py",
   "mimetype": "text/x-python",
   "name": "python",
   "nbconvert_exporter": "python",
   "pygments_lexer": "ipython3",
   "version": "3.8.8"
  }
 },
 "nbformat": 4,
 "nbformat_minor": 5
}
