{
 "cells": [
  {
   "cell_type": "code",
   "execution_count": null,
   "id": "8ee22751",
   "metadata": {},
   "outputs": [],
   "source": [
    "'''Q.1 To what does a relative path refer?'''\n",
    "\n",
    "The relative path is the path to some file with respect to your current working directory (PWD). \n",
    "For example: \n",
    "Absolute path: C:/users/HP/Assignment/Assignment_9.ipnb \n",
    "If my PWD is C:/users/HP/ and the relative path is Assignment/Assignment_9.ipnb  \n",
    "Note, PWD + relative path = absolute path."
   ]
  },
  {
   "cell_type": "code",
   "execution_count": null,
   "id": "6d4bccec",
   "metadata": {},
   "outputs": [],
   "source": [
    "'''Q.2 What does an absolute path start with your operating system?'''\n",
    "\n",
    "An absolute path contains the full set of directories from the root of the file system up to your target file or directory. \n",
    "On Windows, an absolute path starts with a drive like C:\\ . You can cd to an absolute path from anywhere on the filesystem"
   ]
  },
  {
   "cell_type": "code",
   "execution_count": 3,
   "id": "7485ce53",
   "metadata": {},
   "outputs": [
    {
     "name": "stdout",
     "output_type": "stream",
     "text": [
      "F:\\Python Basic Assignments\\Answer\n"
     ]
    }
   ],
   "source": [
    "'''Q.3 What do the functions os.getcwd() and os.chdir() do?\n",
    "\n",
    "os is a python library\n",
    "os.getcwd() - returns the current working directory of a process.\n",
    "os.chdir() - change the current working directory to specified path. '''\n",
    "\n",
    "import os\n",
    "print(os.getcwd())"
   ]
  },
  {
   "cell_type": "code",
   "execution_count": null,
   "id": "08c8b040",
   "metadata": {},
   "outputs": [],
   "source": [
    "'''Q.4 What are the . and .. folders?'''\n",
    "\n",
    ". is the current directory\n",
    ".. signifies the parent directory "
   ]
  },
  {
   "cell_type": "code",
   "execution_count": null,
   "id": "74bd9256",
   "metadata": {},
   "outputs": [],
   "source": [
    "'''Q.5 In C:\\bacon\\eggs\\spam.txt, which part is the dir name, and which part is the base name?'''\n",
    "\n",
    "C:\\bacon\\eggs is the dir name, while spam. txt is the base name."
   ]
  },
  {
   "cell_type": "code",
   "execution_count": null,
   "id": "00c5d3d1",
   "metadata": {},
   "outputs": [],
   "source": [
    "'''Q.6 What are the three “mode” arguments that can be passed to the open() function?'''\n",
    "\n",
    "r : Opens the file in read-only mode. ...\n",
    "rb : Opens the file as read-only in binary format and starts reading from the beginning of the file.\n",
    "r+ : Opens a file for reading and writing, placing the pointer at the beginning of the file."
   ]
  },
  {
   "cell_type": "code",
   "execution_count": null,
   "id": "899c0d95",
   "metadata": {},
   "outputs": [],
   "source": [
    "'''Q.7 What happens if an existing file is opened in write mode?'''\n",
    "\n",
    "To open a file in write mode, “w” is specified. When mode “w” is specified, it creates an empty file for output operations. \n",
    "What if the file already exists? If a file with the same name already exists, its contents are discarded and the file is treated as a new empty file."
   ]
  },
  {
   "cell_type": "code",
   "execution_count": null,
   "id": "3e0cb237",
   "metadata": {},
   "outputs": [],
   "source": [
    "'''Q.8 How do you tell the difference between read() and readlines()?'''\n",
    "\n",
    "read() - reads all of the file's contents into a string\n",
    "readline() - reads just a single line from the file. "
   ]
  },
  {
   "cell_type": "code",
   "execution_count": null,
   "id": "792f7a94",
   "metadata": {},
   "outputs": [],
   "source": [
    "'''Q.9 What data structure does a shelf value resemble?'''\n",
    "\n",
    "shelf value resembles a dictionary value; it has keys and values, along with keys() and values() \n",
    "methods that work similarly to the dictionary methods of the same names."
   ]
  }
 ],
 "metadata": {
  "kernelspec": {
   "display_name": "Python 3",
   "language": "python",
   "name": "python3"
  },
  "language_info": {
   "codemirror_mode": {
    "name": "ipython",
    "version": 3
   },
   "file_extension": ".py",
   "mimetype": "text/x-python",
   "name": "python",
   "nbconvert_exporter": "python",
   "pygments_lexer": "ipython3",
   "version": "3.8.8"
  }
 },
 "nbformat": 4,
 "nbformat_minor": 5
}
