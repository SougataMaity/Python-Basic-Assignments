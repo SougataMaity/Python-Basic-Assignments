{
 "cells": [
  {
   "cell_type": "code",
   "execution_count": null,
   "id": "8e1e23bb",
   "metadata": {},
   "outputs": [],
   "source": [
    "'''Q.1 Why are functions advantageous to have in your programs?'''\n",
    "\n",
    "Advantage of function\n",
    "A function is a block of organized, reusable code that is used to perform a single, related action. \n",
    "Functions provide better modularity for our application and a high degree of code reusing.\n",
    "\n",
    "1. Reducing duplication of code.\n",
    "2. Decomposing complex problems into simpler pieces.\n",
    "3. Improving clarity of the code.\n",
    "4. Reuse of code.\n",
    "5. Information hiding"
   ]
  },
  {
   "cell_type": "code",
   "execution_count": null,
   "id": "6c8620c5",
   "metadata": {},
   "outputs": [],
   "source": [
    "'''Q.2 When does the code in a function run: when it's specified or when it's called?'''\n",
    "\n",
    "Functions are \"self contained\" modules of code that accomplish a specific task.The program comes to a \n",
    "line of code containing a \"function call\"."
   ]
  },
  {
   "cell_type": "code",
   "execution_count": null,
   "id": "19d9f847",
   "metadata": {},
   "outputs": [],
   "source": [
    "'''Q.3 What statement creates a function?'''\n",
    "\n",
    "The def statement create a function and assigns it to a name.\n",
    "def <name> ():\n",
    "    <statement>\n",
    "the statement block becomes the function body, the code executes each time the function is called."
   ]
  },
  {
   "cell_type": "code",
   "execution_count": null,
   "id": "88a84dc4",
   "metadata": {},
   "outputs": [],
   "source": [
    "'''Q.4 What is the difference between a function and a function call?'''\n",
    "\n",
    "A function is procedure to achieve a particular result \n",
    "and function call is using this function to achive that task."
   ]
  },
  {
   "cell_type": "code",
   "execution_count": null,
   "id": "70647cd8",
   "metadata": {},
   "outputs": [],
   "source": [
    "'''Q.5 How many global scopes are there in a Python program? How many local scopes?'''\n",
    "\n",
    "Global scopes : Only one global scopes per program execution\n",
    "Local scopes  : Every time call a function, and we also creating a new local scope. "
   ]
  },
  {
   "cell_type": "code",
   "execution_count": null,
   "id": "d83b7571",
   "metadata": {},
   "outputs": [],
   "source": [
    "'''Q.6 What happens to variables in a local scope when the function call returns?'''\n",
    "\n",
    "When the execution of the function terminates (returns), the local variables are destroyed. \n",
    "Codelens helps you visualize this because the local variables disappear after the function returns"
   ]
  },
  {
   "cell_type": "code",
   "execution_count": null,
   "id": "f33d22d8",
   "metadata": {},
   "outputs": [],
   "source": [
    "'''Q.7 What is the concept of a return value? Is it possible to have a return value in an expression?'''\n",
    "\n",
    "A return statement is used to end the execution of the function call and “returns” the result \n",
    "(value of the expression following the return keyword) to the caller. The statements after the return statements are \n",
    "not executed. If the return statement is without any expression, then the special value None is returned"
   ]
  },
  {
   "cell_type": "code",
   "execution_count": null,
   "id": "6ca9de20",
   "metadata": {},
   "outputs": [],
   "source": [
    "'''Q.8 If a function does not have a return statement, what is the return value of a call to that function?'''\n",
    "\n",
    "n Python, every function returns something. If there are no return statements, then it returns None. \n",
    "If the return statement contains an expression, it's evaluated first and then the value is returned. The return statement terminates the function execution."
   ]
  },
  {
   "cell_type": "code",
   "execution_count": null,
   "id": "0fb01bb6",
   "metadata": {},
   "outputs": [],
   "source": [
    "'''Q.9 How do you make a function variable refer to the global variable?'''\n",
    "\n",
    "If you want to refer to a global variable in a function, you can use the global keyword to declare which variables are global."
   ]
  },
  {
   "cell_type": "code",
   "execution_count": null,
   "id": "4cf6a10c",
   "metadata": {},
   "outputs": [],
   "source": [
    "'''Q.10 What is the data type of None?'''\n",
    "\n",
    "The None keyword is used to define a null value, or no value at all. None is not the same as 0, \n",
    "False, or an empty string. None is a data type of its own (NoneType) and only None can be None."
   ]
  },
  {
   "cell_type": "code",
   "execution_count": null,
   "id": "648b1f39",
   "metadata": {},
   "outputs": [],
   "source": [
    "'''Q.11 What does the sentence import areallyourpetsnamederic do?'''\n",
    "\n",
    "That import statement imports a module named areallyourpetsnamederic."
   ]
  },
  {
   "cell_type": "code",
   "execution_count": null,
   "id": "37c0412f",
   "metadata": {},
   "outputs": [],
   "source": [
    "'''Q.12 If you had a bacon() feature in a spam module, what would you call it after importing spam?'''\n",
    "\n",
    "This function can be called with spam.bacon()."
   ]
  },
  {
   "cell_type": "code",
   "execution_count": null,
   "id": "e0bfa970",
   "metadata": {},
   "outputs": [],
   "source": [
    "'''Q.13 What can you do to save a programme from crashing if it encounters an error?'''\n",
    "\n",
    "If an error occurs in a program, we dont want the program to unexpectedly crash on the user. \n",
    "Instead, error handling can be used to notify the user of why the error occurred and gracefully exit the process \n",
    "that caused the error."
   ]
  },
  {
   "cell_type": "code",
   "execution_count": null,
   "id": "6e7f95bf",
   "metadata": {},
   "outputs": [],
   "source": [
    "'''Q.14 What is the purpose of the try clause? What is the purpose of the except clause?'''\n",
    "\n",
    "The try block lets you test a block of code for errors. The except block lets you handle the error. The else block lets you execute code when there is no error. The finally block lets you execute code, regardless of the result of the try- and except blocks."
   ]
  }
 ],
 "metadata": {
  "kernelspec": {
   "display_name": "Python 3",
   "language": "python",
   "name": "python3"
  },
  "language_info": {
   "codemirror_mode": {
    "name": "ipython",
    "version": 3
   },
   "file_extension": ".py",
   "mimetype": "text/x-python",
   "name": "python",
   "nbconvert_exporter": "python",
   "pygments_lexer": "ipython3",
   "version": "3.8.8"
  }
 },
 "nbformat": 4,
 "nbformat_minor": 5
}
